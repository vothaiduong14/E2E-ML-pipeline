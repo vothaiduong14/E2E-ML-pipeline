{
 "cells": [
  {
   "cell_type": "code",
   "execution_count": 2,
   "metadata": {},
   "outputs": [],
   "source": [
    "import pandas as pd\n",
    "import numpy as np"
   ]
  },
  {
   "cell_type": "code",
   "execution_count": 15,
   "metadata": {},
   "outputs": [],
   "source": [
    "train_df = pd.read_csv('data/processed/train.csv')\n",
    "test_df = pd.read_csv('data/processed/test.csv')"
   ]
  },
  {
   "cell_type": "code",
   "execution_count": 16,
   "metadata": {},
   "outputs": [
    {
     "data": {
      "text/plain": [
       "(304887, 216)"
      ]
     },
     "execution_count": 16,
     "metadata": {},
     "output_type": "execute_result"
    }
   ],
   "source": [
    "train_df.shape"
   ]
  },
  {
   "cell_type": "code",
   "execution_count": 17,
   "metadata": {},
   "outputs": [
    {
     "data": {
      "text/plain": [
       "(91466, 216)"
      ]
     },
     "execution_count": 17,
     "metadata": {},
     "output_type": "execute_result"
    }
   ],
   "source": [
    "# get only a fraction of data for training:\n",
    "train_df = train_df.sample(frac=0.3, replace=False, random_state=42).reset_index(drop=True)\n",
    "train_df.shape"
   ]
  },
  {
   "cell_type": "code",
   "execution_count": 18,
   "metadata": {},
   "outputs": [],
   "source": [
    "X = train_df.drop(['Response'], axis=1)\n",
    "y = train_df['Response']"
   ]
  },
  {
   "cell_type": "code",
   "execution_count": 19,
   "metadata": {},
   "outputs": [
    {
     "data": {
      "text/plain": [
       "7"
      ]
     },
     "execution_count": 19,
     "metadata": {},
     "output_type": "execute_result"
    }
   ],
   "source": [
    "# ratio of majority class to minority class (for the unbalanced dataset)\n",
    "scale_pos_weight = round(len(train_df['Response']) / sum(train_df['Response']) - 1)\n",
    "scale_pos_weight"
   ]
  },
  {
   "cell_type": "code",
   "execution_count": 20,
   "metadata": {},
   "outputs": [],
   "source": [
    "xgb_params = {'max_depth': [3, 5, 6, 10, 12, 14], # Maximum depth of a tree\n",
    "              'learning_rate': [0.01, 0.1, 0.2, 0.3], # Step size shrinkage used in update to prevents overfitting\n",
    "              'subsample': np.arange(0.5, 1.0, 0.1),\n",
    "              'colsample_bytree': np.arange(0.4, 1.0, 0.1), # Number of features supplied to a tree\n",
    "              'colsample_bylevel': np.arange(0.4, 1.0, 0.1),\n",
    "              'n_estimators': np.arange(100, 400, 100),\n",
    "              'gamma': np.arange(0, 0.3, 0.1)}"
   ]
  },
  {
   "cell_type": "code",
   "execution_count": 24,
   "metadata": {},
   "outputs": [],
   "source": [
    "import xgboost as xgb\n",
    "from xgboost import XGBClassifier\n",
    "from sklearn.model_selection import RandomizedSearchCV\n",
    "from sklearn.metrics import f1_score, accuracy_score\n",
    "\n",
    "estimator=XGBClassifier(objective='binary:logistic', \n",
    "                                                    #   tree_method=\"gpu_hist\", # Use GPU\n",
    "                                                      random_state=42,\n",
    "                                                      eval_metric='logloss',\n",
    "                                                      scale_pos_weight=scale_pos_weight)"
   ]
  },
  {
   "cell_type": "code",
   "execution_count": 25,
   "metadata": {},
   "outputs": [],
   "source": [
    "xgb_grid = RandomizedSearchCV(estimator=estimator, param_distributions=xgb_params, n_iter=40, cv=5, verbose=3, random_state=42, n_jobs=-1, scoring = 'f1_macro')"
   ]
  },
  {
   "cell_type": "code",
   "execution_count": 26,
   "metadata": {},
   "outputs": [
    {
     "name": "stdout",
     "output_type": "stream",
     "text": [
      "Fitting 5 folds for each of 40 candidates, totalling 200 fits\n",
      "[CV 3/5] END colsample_bylevel=0.5, colsample_bytree=0.7999999999999999, gamma=0.1, learning_rate=0.1, max_depth=6, n_estimators=100, subsample=0.8999999999999999;, score=0.620 total time=  30.5s\n",
      "[CV 1/5] END colsample_bylevel=0.5, colsample_bytree=0.7999999999999999, gamma=0.1, learning_rate=0.1, max_depth=6, n_estimators=100, subsample=0.8999999999999999;, score=0.623 total time=  31.1s\n",
      "[CV 2/5] END colsample_bylevel=0.5, colsample_bytree=0.7999999999999999, gamma=0.1, learning_rate=0.1, max_depth=6, n_estimators=100, subsample=0.8999999999999999;, score=0.621 total time=  32.5s\n",
      "[CV 5/5] END colsample_bylevel=0.5, colsample_bytree=0.7999999999999999, gamma=0.1, learning_rate=0.1, max_depth=6, n_estimators=100, subsample=0.8999999999999999;, score=0.619 total time=  32.9s\n",
      "[CV 4/5] END colsample_bylevel=0.5, colsample_bytree=0.7999999999999999, gamma=0.1, learning_rate=0.1, max_depth=6, n_estimators=100, subsample=0.8999999999999999;, score=0.620 total time=  33.1s\n",
      "[CV 3/5] END colsample_bylevel=0.6, colsample_bytree=0.6, gamma=0.1, learning_rate=0.3, max_depth=10, n_estimators=100, subsample=0.5;, score=0.636 total time=  52.3s\n",
      "[CV 2/5] END colsample_bylevel=0.6, colsample_bytree=0.6, gamma=0.1, learning_rate=0.3, max_depth=10, n_estimators=100, subsample=0.5;, score=0.639 total time=  52.8s\n",
      "[CV 5/5] END colsample_bylevel=0.6, colsample_bytree=0.6, gamma=0.1, learning_rate=0.3, max_depth=10, n_estimators=100, subsample=0.5;, score=0.634 total time=  53.0s\n",
      "[CV 1/5] END colsample_bylevel=0.6, colsample_bytree=0.6, gamma=0.1, learning_rate=0.3, max_depth=10, n_estimators=100, subsample=0.5;, score=0.636 total time=  54.4s\n",
      "[CV 2/5] END colsample_bylevel=0.4, colsample_bytree=0.4, gamma=0.2, learning_rate=0.1, max_depth=10, n_estimators=200, subsample=0.5;, score=0.628 total time=  54.9s\n",
      "[CV 4/5] END colsample_bylevel=0.4, colsample_bytree=0.4, gamma=0.2, learning_rate=0.1, max_depth=10, n_estimators=200, subsample=0.5;, score=0.631 total time=  55.1s\n",
      "[CV 3/5] END colsample_bylevel=0.4, colsample_bytree=0.4, gamma=0.2, learning_rate=0.1, max_depth=10, n_estimators=200, subsample=0.5;, score=0.630 total time=  54.9s\n",
      "[CV 1/5] END colsample_bylevel=0.4, colsample_bytree=0.4, gamma=0.2, learning_rate=0.1, max_depth=10, n_estimators=200, subsample=0.5;, score=0.630 total time=  55.8s\n",
      "[CV 5/5] END colsample_bylevel=0.4, colsample_bytree=0.4, gamma=0.2, learning_rate=0.1, max_depth=10, n_estimators=200, subsample=0.5;, score=0.630 total time=  56.6s\n",
      "[CV 4/5] END colsample_bylevel=0.6, colsample_bytree=0.6, gamma=0.1, learning_rate=0.3, max_depth=10, n_estimators=100, subsample=0.5;, score=0.639 total time=  56.9s\n",
      "[CV 1/5] END colsample_bylevel=0.7, colsample_bytree=0.6, gamma=0.1, learning_rate=0.01, max_depth=3, n_estimators=100, subsample=0.7;, score=0.615 total time=  19.9s\n",
      "[CV 3/5] END colsample_bylevel=0.7, colsample_bytree=0.6, gamma=0.1, learning_rate=0.01, max_depth=3, n_estimators=100, subsample=0.7;, score=0.609 total time=  19.7s\n",
      "[CV 2/5] END colsample_bylevel=0.7, colsample_bytree=0.6, gamma=0.1, learning_rate=0.01, max_depth=3, n_estimators=100, subsample=0.7;, score=0.613 total time=  20.7s\n",
      "[CV 4/5] END colsample_bylevel=0.7, colsample_bytree=0.6, gamma=0.1, learning_rate=0.01, max_depth=3, n_estimators=100, subsample=0.7;, score=0.611 total time=  20.1s\n",
      "[CV 1/5] END colsample_bylevel=0.6, colsample_bytree=0.6, gamma=0.2, learning_rate=0.2, max_depth=3, n_estimators=100, subsample=0.7999999999999999;, score=0.619 total time=  17.1s\n",
      "[CV 3/5] END colsample_bylevel=0.6, colsample_bytree=0.6, gamma=0.2, learning_rate=0.2, max_depth=3, n_estimators=100, subsample=0.7999999999999999;, score=0.617 total time=  17.7s\n",
      "[CV 2/5] END colsample_bylevel=0.6, colsample_bytree=0.6, gamma=0.2, learning_rate=0.2, max_depth=3, n_estimators=100, subsample=0.7999999999999999;, score=0.616 total time=  18.2s\n",
      "[CV 5/5] END colsample_bylevel=0.7, colsample_bytree=0.6, gamma=0.1, learning_rate=0.01, max_depth=3, n_estimators=100, subsample=0.7;, score=0.611 total time=  21.1s\n",
      "[CV 2/5] END colsample_bylevel=0.6, colsample_bytree=0.7, gamma=0.1, learning_rate=0.3, max_depth=5, n_estimators=200, subsample=0.5;, score=0.627 total time= 1.1min\n",
      "[CV 4/5] END colsample_bylevel=0.6, colsample_bytree=0.7, gamma=0.1, learning_rate=0.3, max_depth=5, n_estimators=200, subsample=0.5;, score=0.630 total time= 1.1min\n",
      "[CV 1/5] END colsample_bylevel=0.6, colsample_bytree=0.7, gamma=0.1, learning_rate=0.3, max_depth=5, n_estimators=200, subsample=0.5;, score=0.629 total time= 1.1min\n",
      "[CV 3/5] END colsample_bylevel=0.6, colsample_bytree=0.7, gamma=0.1, learning_rate=0.3, max_depth=5, n_estimators=200, subsample=0.5;, score=0.628 total time= 1.1min\n",
      "[CV 5/5] END colsample_bylevel=0.6, colsample_bytree=0.6, gamma=0.2, learning_rate=0.2, max_depth=3, n_estimators=100, subsample=0.7999999999999999;, score=0.618 total time=  19.2s\n",
      "[CV 4/5] END colsample_bylevel=0.6, colsample_bytree=0.6, gamma=0.2, learning_rate=0.2, max_depth=3, n_estimators=100, subsample=0.7999999999999999;, score=0.620 total time=  20.7s\n",
      "[CV 5/5] END colsample_bylevel=0.6, colsample_bytree=0.7, gamma=0.1, learning_rate=0.3, max_depth=5, n_estimators=200, subsample=0.5;, score=0.625 total time= 1.1min\n",
      "[CV 1/5] END colsample_bylevel=0.4, colsample_bytree=0.4, gamma=0.2, learning_rate=0.01, max_depth=10, n_estimators=100, subsample=0.8999999999999999;, score=0.624 total time=  30.2s\n",
      "[CV 2/5] END colsample_bylevel=0.8999999999999999, colsample_bytree=0.7999999999999999, gamma=0.1, learning_rate=0.1, max_depth=5, n_estimators=200, subsample=0.8999999999999999;, score=0.625 total time= 1.4min\n",
      "[CV 4/5] END colsample_bylevel=0.8999999999999999, colsample_bytree=0.7999999999999999, gamma=0.1, learning_rate=0.1, max_depth=5, n_estimators=200, subsample=0.8999999999999999;, score=0.624 total time= 1.4min\n",
      "[CV 5/5] END colsample_bylevel=0.8999999999999999, colsample_bytree=0.7999999999999999, gamma=0.1, learning_rate=0.1, max_depth=5, n_estimators=200, subsample=0.8999999999999999;, score=0.623 total time= 1.4min\n",
      "[CV 3/5] END colsample_bylevel=0.8999999999999999, colsample_bytree=0.7999999999999999, gamma=0.1, learning_rate=0.1, max_depth=5, n_estimators=200, subsample=0.8999999999999999;, score=0.623 total time= 1.5min\n",
      "[CV 1/5] END colsample_bylevel=0.8999999999999999, colsample_bytree=0.7999999999999999, gamma=0.1, learning_rate=0.1, max_depth=5, n_estimators=200, subsample=0.8999999999999999;, score=0.625 total time= 1.5min\n",
      "[CV 3/5] END colsample_bylevel=0.4, colsample_bytree=0.4, gamma=0.2, learning_rate=0.01, max_depth=10, n_estimators=100, subsample=0.8999999999999999;, score=0.620 total time=  28.4s\n",
      "[CV 2/5] END colsample_bylevel=0.4, colsample_bytree=0.4, gamma=0.2, learning_rate=0.01, max_depth=10, n_estimators=100, subsample=0.8999999999999999;, score=0.624 total time=  29.5s\n",
      "[CV 4/5] END colsample_bylevel=0.4, colsample_bytree=0.4, gamma=0.2, learning_rate=0.01, max_depth=10, n_estimators=100, subsample=0.8999999999999999;, score=0.625 total time=  28.5s\n",
      "[CV 1/5] END colsample_bylevel=0.4, colsample_bytree=0.6, gamma=0.0, learning_rate=0.3, max_depth=3, n_estimators=100, subsample=0.7999999999999999;, score=0.620 total time=  14.7s\n",
      "[CV 5/5] END colsample_bylevel=0.4, colsample_bytree=0.6, gamma=0.0, learning_rate=0.3, max_depth=3, n_estimators=100, subsample=0.7999999999999999;, score=0.619 total time=  14.1s\n",
      "[CV 4/5] END colsample_bylevel=0.4, colsample_bytree=0.6, gamma=0.0, learning_rate=0.3, max_depth=3, n_estimators=100, subsample=0.7999999999999999;, score=0.622 total time=  14.9s\n",
      "[CV 3/5] END colsample_bylevel=0.4, colsample_bytree=0.6, gamma=0.0, learning_rate=0.3, max_depth=3, n_estimators=100, subsample=0.7999999999999999;, score=0.617 total time=  15.7s\n",
      "[CV 2/5] END colsample_bylevel=0.4, colsample_bytree=0.6, gamma=0.0, learning_rate=0.3, max_depth=3, n_estimators=100, subsample=0.7999999999999999;, score=0.617 total time=  15.7s\n",
      "[CV 5/5] END colsample_bylevel=0.4, colsample_bytree=0.4, gamma=0.2, learning_rate=0.01, max_depth=10, n_estimators=100, subsample=0.8999999999999999;, score=0.620 total time=  29.0s\n",
      "[CV 1/5] END colsample_bylevel=0.4, colsample_bytree=0.7999999999999999, gamma=0.2, learning_rate=0.3, max_depth=3, n_estimators=100, subsample=0.6;, score=0.622 total time=  19.1s\n",
      "[CV 4/5] END colsample_bylevel=0.4, colsample_bytree=0.8999999999999999, gamma=0.2, learning_rate=0.1, max_depth=10, n_estimators=300, subsample=0.5;, score=0.640 total time= 2.7min\n",
      "[CV 2/5] END colsample_bylevel=0.4, colsample_bytree=0.7999999999999999, gamma=0.2, learning_rate=0.3, max_depth=3, n_estimators=100, subsample=0.6;, score=0.616 total time=  19.6s\n",
      "[CV 1/5] END colsample_bylevel=0.4, colsample_bytree=0.8999999999999999, gamma=0.2, learning_rate=0.1, max_depth=10, n_estimators=300, subsample=0.5;, score=0.641 total time= 2.7min\n",
      "[CV 2/5] END colsample_bylevel=0.4, colsample_bytree=0.8999999999999999, gamma=0.2, learning_rate=0.1, max_depth=10, n_estimators=300, subsample=0.5;, score=0.643 total time= 2.7min\n",
      "[CV 3/5] END colsample_bylevel=0.4, colsample_bytree=0.7999999999999999, gamma=0.2, learning_rate=0.3, max_depth=3, n_estimators=100, subsample=0.6;, score=0.618 total time=  19.3s\n",
      "[CV 3/5] END colsample_bylevel=0.4, colsample_bytree=0.8999999999999999, gamma=0.2, learning_rate=0.1, max_depth=10, n_estimators=300, subsample=0.5;, score=0.639 total time= 2.8min\n",
      "[CV 4/5] END colsample_bylevel=0.4, colsample_bytree=0.7999999999999999, gamma=0.2, learning_rate=0.3, max_depth=3, n_estimators=100, subsample=0.6;, score=0.620 total time=  19.2s\n",
      "[CV 5/5] END colsample_bylevel=0.4, colsample_bytree=0.7999999999999999, gamma=0.2, learning_rate=0.3, max_depth=3, n_estimators=100, subsample=0.6;, score=0.620 total time=  18.0s\n",
      "[CV 1/5] END colsample_bylevel=0.4, colsample_bytree=0.5, gamma=0.1, learning_rate=0.2, max_depth=12, n_estimators=200, subsample=0.5;, score=0.640 total time= 1.4min\n",
      "[CV 3/5] END colsample_bylevel=0.4, colsample_bytree=0.5, gamma=0.1, learning_rate=0.2, max_depth=12, n_estimators=200, subsample=0.5;, score=0.638 total time= 1.3min\n",
      "[CV 4/5] END colsample_bylevel=0.4, colsample_bytree=0.5, gamma=0.1, learning_rate=0.2, max_depth=12, n_estimators=200, subsample=0.5;, score=0.641 total time= 1.4min\n",
      "[CV 2/5] END colsample_bylevel=0.4, colsample_bytree=0.5, gamma=0.1, learning_rate=0.2, max_depth=12, n_estimators=200, subsample=0.5;, score=0.644 total time= 1.4min\n",
      "[CV 5/5] END colsample_bylevel=0.4, colsample_bytree=0.5, gamma=0.1, learning_rate=0.2, max_depth=12, n_estimators=200, subsample=0.5;, score=0.636 total time= 1.4min\n",
      "[CV 5/5] END colsample_bylevel=0.4, colsample_bytree=0.8999999999999999, gamma=0.2, learning_rate=0.1, max_depth=10, n_estimators=300, subsample=0.5;, score=0.638 total time= 2.7min\n",
      "[CV 1/5] END colsample_bylevel=0.6, colsample_bytree=0.7999999999999999, gamma=0.0, learning_rate=0.3, max_depth=5, n_estimators=100, subsample=0.7999999999999999;, score=0.628 total time=  33.4s\n",
      "[CV 2/5] END colsample_bylevel=0.6, colsample_bytree=0.7999999999999999, gamma=0.0, learning_rate=0.3, max_depth=5, n_estimators=100, subsample=0.7999999999999999;, score=0.624 total time=  34.1s\n",
      "[CV 3/5] END colsample_bylevel=0.6, colsample_bytree=0.7999999999999999, gamma=0.0, learning_rate=0.3, max_depth=5, n_estimators=100, subsample=0.7999999999999999;, score=0.625 total time=  33.4s\n",
      "[CV 5/5] END colsample_bylevel=0.6, colsample_bytree=0.7999999999999999, gamma=0.0, learning_rate=0.3, max_depth=5, n_estimators=100, subsample=0.7999999999999999;, score=0.625 total time=  33.2s\n",
      "[CV 4/5] END colsample_bylevel=0.6, colsample_bytree=0.7999999999999999, gamma=0.0, learning_rate=0.3, max_depth=5, n_estimators=100, subsample=0.7999999999999999;, score=0.626 total time=  34.8s\n",
      "[CV 2/5] END colsample_bylevel=0.8999999999999999, colsample_bytree=0.8999999999999999, gamma=0.0, learning_rate=0.01, max_depth=5, n_estimators=100, subsample=0.8999999999999999;, score=0.606 total time=  48.7s\n",
      "[CV 1/5] END colsample_bylevel=0.8999999999999999, colsample_bytree=0.8999999999999999, gamma=0.0, learning_rate=0.01, max_depth=5, n_estimators=100, subsample=0.8999999999999999;, score=0.613 total time=  49.7s\n",
      "[CV 4/5] END colsample_bylevel=0.8999999999999999, colsample_bytree=0.8999999999999999, gamma=0.0, learning_rate=0.01, max_depth=5, n_estimators=100, subsample=0.8999999999999999;, score=0.605 total time=  49.4s\n",
      "[CV 3/5] END colsample_bylevel=0.8999999999999999, colsample_bytree=0.8999999999999999, gamma=0.0, learning_rate=0.01, max_depth=5, n_estimators=100, subsample=0.8999999999999999;, score=0.606 total time=  52.4s\n",
      "[CV 5/5] END colsample_bylevel=0.8999999999999999, colsample_bytree=0.8999999999999999, gamma=0.0, learning_rate=0.01, max_depth=5, n_estimators=100, subsample=0.8999999999999999;, score=0.610 total time=  50.1s\n",
      "[CV 1/5] END colsample_bylevel=0.4, colsample_bytree=0.8999999999999999, gamma=0.2, learning_rate=0.3, max_depth=3, n_estimators=200, subsample=0.6;, score=0.623 total time=  36.2s\n",
      "[CV 3/5] END colsample_bylevel=0.4, colsample_bytree=0.8999999999999999, gamma=0.2, learning_rate=0.3, max_depth=3, n_estimators=200, subsample=0.6;, score=0.621 total time=  36.8s\n",
      "[CV 2/5] END colsample_bylevel=0.4, colsample_bytree=0.8999999999999999, gamma=0.2, learning_rate=0.3, max_depth=3, n_estimators=200, subsample=0.6;, score=0.622 total time=  37.3s\n",
      "[CV 4/5] END colsample_bylevel=0.4, colsample_bytree=0.8999999999999999, gamma=0.2, learning_rate=0.3, max_depth=3, n_estimators=200, subsample=0.6;, score=0.623 total time=  37.9s\n",
      "[CV 1/5] END colsample_bylevel=0.7999999999999999, colsample_bytree=0.5, gamma=0.1, learning_rate=0.1, max_depth=6, n_estimators=100, subsample=0.5;, score=0.622 total time=  36.4s\n",
      "[CV 5/5] END colsample_bylevel=0.4, colsample_bytree=0.8999999999999999, gamma=0.2, learning_rate=0.3, max_depth=3, n_estimators=200, subsample=0.6;, score=0.623 total time=  38.0s\n",
      "[CV 2/5] END colsample_bylevel=0.7999999999999999, colsample_bytree=0.5, gamma=0.1, learning_rate=0.1, max_depth=6, n_estimators=100, subsample=0.5;, score=0.622 total time=  38.6s\n",
      "[CV 3/5] END colsample_bylevel=0.7999999999999999, colsample_bytree=0.5, gamma=0.1, learning_rate=0.1, max_depth=6, n_estimators=100, subsample=0.5;, score=0.620 total time=  38.6s\n",
      "[CV 4/5] END colsample_bylevel=0.7999999999999999, colsample_bytree=0.5, gamma=0.1, learning_rate=0.1, max_depth=6, n_estimators=100, subsample=0.5;, score=0.622 total time=  38.9s\n",
      "[CV 5/5] END colsample_bylevel=0.7999999999999999, colsample_bytree=0.5, gamma=0.1, learning_rate=0.1, max_depth=6, n_estimators=100, subsample=0.5;, score=0.621 total time=  37.4s\n",
      "[CV 2/5] END colsample_bylevel=0.7, colsample_bytree=0.4, gamma=0.0, learning_rate=0.3, max_depth=10, n_estimators=300, subsample=0.8999999999999999;, score=0.648 total time= 1.8min\n",
      "[CV 1/5] END colsample_bylevel=0.7, colsample_bytree=0.4, gamma=0.0, learning_rate=0.3, max_depth=10, n_estimators=300, subsample=0.8999999999999999;, score=0.649 total time= 1.9min\n",
      "[CV 2/5] END colsample_bylevel=0.7, colsample_bytree=0.8999999999999999, gamma=0.2, learning_rate=0.1, max_depth=3, n_estimators=200, subsample=0.7999999999999999;, score=0.616 total time=  49.4s\n",
      "[CV 3/5] END colsample_bylevel=0.7, colsample_bytree=0.4, gamma=0.0, learning_rate=0.3, max_depth=10, n_estimators=300, subsample=0.8999999999999999;, score=0.638 total time= 1.9min\n",
      "[CV 1/5] END colsample_bylevel=0.7, colsample_bytree=0.8999999999999999, gamma=0.2, learning_rate=0.1, max_depth=3, n_estimators=200, subsample=0.7999999999999999;, score=0.620 total time=  53.6s\n",
      "[CV 3/5] END colsample_bylevel=0.7, colsample_bytree=0.8999999999999999, gamma=0.2, learning_rate=0.1, max_depth=3, n_estimators=200, subsample=0.7999999999999999;, score=0.618 total time=  52.2s\n",
      "[CV 4/5] END colsample_bylevel=0.7, colsample_bytree=0.8999999999999999, gamma=0.2, learning_rate=0.1, max_depth=3, n_estimators=200, subsample=0.7999999999999999;, score=0.618 total time=  48.1s\n",
      "[CV 5/5] END colsample_bylevel=0.7, colsample_bytree=0.4, gamma=0.0, learning_rate=0.3, max_depth=10, n_estimators=300, subsample=0.8999999999999999;, score=0.636 total time= 1.9min\n",
      "[CV 5/5] END colsample_bylevel=0.7, colsample_bytree=0.8999999999999999, gamma=0.2, learning_rate=0.1, max_depth=3, n_estimators=200, subsample=0.7999999999999999;, score=0.619 total time=  49.3s\n",
      "[CV 4/5] END colsample_bylevel=0.7, colsample_bytree=0.4, gamma=0.0, learning_rate=0.3, max_depth=10, n_estimators=300, subsample=0.8999999999999999;, score=0.644 total time= 2.0min\n",
      "[CV 1/5] END colsample_bylevel=0.4, colsample_bytree=0.6, gamma=0.1, learning_rate=0.2, max_depth=10, n_estimators=100, subsample=0.7;, score=0.633 total time=  35.0s\n",
      "[CV 3/5] END colsample_bylevel=0.4, colsample_bytree=0.6, gamma=0.1, learning_rate=0.2, max_depth=10, n_estimators=100, subsample=0.7;, score=0.631 total time=  34.4s\n",
      "[CV 2/5] END colsample_bylevel=0.4, colsample_bytree=0.6, gamma=0.1, learning_rate=0.2, max_depth=10, n_estimators=100, subsample=0.7;, score=0.633 total time=  35.0s\n",
      "[CV 4/5] END colsample_bylevel=0.4, colsample_bytree=0.6, gamma=0.1, learning_rate=0.2, max_depth=10, n_estimators=100, subsample=0.7;, score=0.636 total time=  36.4s\n",
      "[CV 2/5] END colsample_bylevel=0.4, colsample_bytree=0.4, gamma=0.0, learning_rate=0.2, max_depth=3, n_estimators=200, subsample=0.8999999999999999;, score=0.615 total time=  18.7s\n",
      "[CV 1/5] END colsample_bylevel=0.4, colsample_bytree=0.4, gamma=0.0, learning_rate=0.2, max_depth=3, n_estimators=200, subsample=0.8999999999999999;, score=0.621 total time=  20.5s\n",
      "[CV 3/5] END colsample_bylevel=0.4, colsample_bytree=0.4, gamma=0.0, learning_rate=0.2, max_depth=3, n_estimators=200, subsample=0.8999999999999999;, score=0.618 total time=  20.7s\n",
      "[CV 5/5] END colsample_bylevel=0.4, colsample_bytree=0.6, gamma=0.1, learning_rate=0.2, max_depth=10, n_estimators=100, subsample=0.7;, score=0.633 total time=  35.4s\n",
      "[CV 4/5] END colsample_bylevel=0.4, colsample_bytree=0.4, gamma=0.0, learning_rate=0.2, max_depth=3, n_estimators=200, subsample=0.8999999999999999;, score=0.619 total time=  18.7s\n",
      "[CV 5/5] END colsample_bylevel=0.4, colsample_bytree=0.4, gamma=0.0, learning_rate=0.2, max_depth=3, n_estimators=200, subsample=0.8999999999999999;, score=0.619 total time=  20.1s\n",
      "[CV 1/5] END colsample_bylevel=0.6, colsample_bytree=0.8999999999999999, gamma=0.1, learning_rate=0.2, max_depth=6, n_estimators=300, subsample=0.7;, score=0.633 total time= 2.1min\n",
      "[CV 2/5] END colsample_bylevel=0.6, colsample_bytree=0.8999999999999999, gamma=0.1, learning_rate=0.2, max_depth=6, n_estimators=300, subsample=0.7;, score=0.638 total time= 2.0min\n",
      "[CV 3/5] END colsample_bylevel=0.6, colsample_bytree=0.8999999999999999, gamma=0.1, learning_rate=0.2, max_depth=6, n_estimators=300, subsample=0.7;, score=0.631 total time= 2.1min\n",
      "[CV 4/5] END colsample_bylevel=0.6, colsample_bytree=0.8999999999999999, gamma=0.1, learning_rate=0.2, max_depth=6, n_estimators=300, subsample=0.7;, score=0.639 total time= 2.0min\n",
      "[CV 1/5] END colsample_bylevel=0.7999999999999999, colsample_bytree=0.6, gamma=0.1, learning_rate=0.2, max_depth=12, n_estimators=300, subsample=0.7999999999999999;, score=0.642 total time= 3.6min\n",
      "[CV 3/5] END colsample_bylevel=0.7999999999999999, colsample_bytree=0.6, gamma=0.1, learning_rate=0.2, max_depth=12, n_estimators=300, subsample=0.7999999999999999;, score=0.640 total time= 3.6min\n",
      "[CV 2/5] END colsample_bylevel=0.7999999999999999, colsample_bytree=0.6, gamma=0.1, learning_rate=0.2, max_depth=12, n_estimators=300, subsample=0.7999999999999999;, score=0.644 total time= 3.6min\n",
      "[CV 5/5] END colsample_bylevel=0.6, colsample_bytree=0.8999999999999999, gamma=0.1, learning_rate=0.2, max_depth=6, n_estimators=300, subsample=0.7;, score=0.634 total time= 2.0min\n",
      "[CV 5/5] END colsample_bylevel=0.8999999999999999, colsample_bytree=0.8999999999999999, gamma=0.0, learning_rate=0.3, max_depth=14, n_estimators=300, subsample=0.7999999999999999;, score=0.602 total time= 6.7min\n",
      "[CV 4/5] END colsample_bylevel=0.8999999999999999, colsample_bytree=0.8999999999999999, gamma=0.0, learning_rate=0.3, max_depth=14, n_estimators=300, subsample=0.7999999999999999;, score=0.613 total time= 6.7min\n",
      "[CV 3/5] END colsample_bylevel=0.8999999999999999, colsample_bytree=0.8999999999999999, gamma=0.0, learning_rate=0.3, max_depth=14, n_estimators=300, subsample=0.7999999999999999;, score=0.614 total time= 6.8min\n",
      "[CV 4/5] END colsample_bylevel=0.7999999999999999, colsample_bytree=0.6, gamma=0.1, learning_rate=0.2, max_depth=12, n_estimators=300, subsample=0.7999999999999999;, score=0.643 total time= 3.6min\n",
      "[CV 1/5] END colsample_bylevel=0.8999999999999999, colsample_bytree=0.8999999999999999, gamma=0.0, learning_rate=0.3, max_depth=14, n_estimators=300, subsample=0.7999999999999999;, score=0.610 total time= 6.8min\n",
      "[CV 2/5] END colsample_bylevel=0.8999999999999999, colsample_bytree=0.8999999999999999, gamma=0.0, learning_rate=0.3, max_depth=14, n_estimators=300, subsample=0.7999999999999999;, score=0.616 total time= 6.9min\n",
      "[CV 5/5] END colsample_bylevel=0.7999999999999999, colsample_bytree=0.6, gamma=0.1, learning_rate=0.2, max_depth=12, n_estimators=300, subsample=0.7999999999999999;, score=0.628 total time= 3.6min\n",
      "[CV 1/5] END colsample_bylevel=0.4, colsample_bytree=0.5, gamma=0.2, learning_rate=0.1, max_depth=3, n_estimators=200, subsample=0.8999999999999999;, score=0.616 total time=  25.4s\n",
      "[CV 2/5] END colsample_bylevel=0.4, colsample_bytree=0.5, gamma=0.2, learning_rate=0.1, max_depth=3, n_estimators=200, subsample=0.8999999999999999;, score=0.614 total time=  23.7s\n",
      "[CV 3/5] END colsample_bylevel=0.4, colsample_bytree=0.5, gamma=0.2, learning_rate=0.1, max_depth=3, n_estimators=200, subsample=0.8999999999999999;, score=0.614 total time=  23.6s\n",
      "[CV 4/5] END colsample_bylevel=0.4, colsample_bytree=0.5, gamma=0.2, learning_rate=0.1, max_depth=3, n_estimators=200, subsample=0.8999999999999999;, score=0.615 total time=  23.4s\n",
      "[CV 5/5] END colsample_bylevel=0.4, colsample_bytree=0.5, gamma=0.2, learning_rate=0.1, max_depth=3, n_estimators=200, subsample=0.8999999999999999;, score=0.615 total time=  24.8s\n",
      "[CV 1/5] END colsample_bylevel=0.4, colsample_bytree=0.5, gamma=0.0, learning_rate=0.2, max_depth=3, n_estimators=200, subsample=0.7;, score=0.621 total time=  25.1s\n",
      "[CV 2/5] END colsample_bylevel=0.4, colsample_bytree=0.5, gamma=0.0, learning_rate=0.2, max_depth=3, n_estimators=200, subsample=0.7;, score=0.618 total time=  26.1s\n",
      "[CV 1/5] END colsample_bylevel=0.6, colsample_bytree=0.8999999999999999, gamma=0.2, learning_rate=0.01, max_depth=6, n_estimators=200, subsample=0.7999999999999999;, score=0.616 total time= 1.4min\n",
      "[CV 3/5] END colsample_bylevel=0.4, colsample_bytree=0.5, gamma=0.0, learning_rate=0.2, max_depth=3, n_estimators=200, subsample=0.7;, score=0.621 total time=  25.6s\n",
      "[CV 4/5] END colsample_bylevel=0.4, colsample_bytree=0.5, gamma=0.0, learning_rate=0.2, max_depth=3, n_estimators=200, subsample=0.7;, score=0.621 total time=  25.4s\n",
      "[CV 2/5] END colsample_bylevel=0.6, colsample_bytree=0.8999999999999999, gamma=0.2, learning_rate=0.01, max_depth=6, n_estimators=200, subsample=0.7999999999999999;, score=0.611 total time= 1.4min\n",
      "[CV 3/5] END colsample_bylevel=0.6, colsample_bytree=0.8999999999999999, gamma=0.2, learning_rate=0.01, max_depth=6, n_estimators=200, subsample=0.7999999999999999;, score=0.611 total time= 1.4min\n",
      "[CV 5/5] END colsample_bylevel=0.4, colsample_bytree=0.5, gamma=0.0, learning_rate=0.2, max_depth=3, n_estimators=200, subsample=0.7;, score=0.620 total time=  24.3s\n",
      "[CV 5/5] END colsample_bylevel=0.6, colsample_bytree=0.8999999999999999, gamma=0.2, learning_rate=0.01, max_depth=6, n_estimators=200, subsample=0.7999999999999999;, score=0.611 total time= 1.4min\n",
      "[CV 4/5] END colsample_bylevel=0.6, colsample_bytree=0.8999999999999999, gamma=0.2, learning_rate=0.01, max_depth=6, n_estimators=200, subsample=0.7999999999999999;, score=0.612 total time= 1.4min\n",
      "[CV 1/5] END colsample_bylevel=0.4, colsample_bytree=0.7, gamma=0.0, learning_rate=0.3, max_depth=10, n_estimators=100, subsample=0.6;, score=0.639 total time=  41.8s\n",
      "[CV 2/5] END colsample_bylevel=0.4, colsample_bytree=0.7, gamma=0.0, learning_rate=0.3, max_depth=10, n_estimators=100, subsample=0.6;, score=0.636 total time=  43.5s\n",
      "[CV 3/5] END colsample_bylevel=0.4, colsample_bytree=0.7, gamma=0.0, learning_rate=0.3, max_depth=10, n_estimators=100, subsample=0.6;, score=0.636 total time=  40.8s\n",
      "[CV 4/5] END colsample_bylevel=0.4, colsample_bytree=0.7, gamma=0.0, learning_rate=0.3, max_depth=10, n_estimators=100, subsample=0.6;, score=0.637 total time=  40.0s\n",
      "[CV 1/5] END colsample_bylevel=0.8999999999999999, colsample_bytree=0.7, gamma=0.0, learning_rate=0.1, max_depth=6, n_estimators=300, subsample=0.7999999999999999;, score=0.629 total time= 2.3min\n",
      "[CV 2/5] END colsample_bylevel=0.8999999999999999, colsample_bytree=0.7, gamma=0.0, learning_rate=0.1, max_depth=6, n_estimators=300, subsample=0.7999999999999999;, score=0.629 total time= 2.2min\n",
      "[CV 4/5] END colsample_bylevel=0.8999999999999999, colsample_bytree=0.7, gamma=0.0, learning_rate=0.1, max_depth=6, n_estimators=300, subsample=0.7999999999999999;, score=0.633 total time= 2.3min\n",
      "[CV 3/5] END colsample_bylevel=0.5, colsample_bytree=0.7999999999999999, gamma=0.1, learning_rate=0.2, max_depth=10, n_estimators=200, subsample=0.8999999999999999;, score=0.641 total time= 1.6min\n",
      "[CV 3/5] END colsample_bylevel=0.8999999999999999, colsample_bytree=0.7, gamma=0.0, learning_rate=0.1, max_depth=6, n_estimators=300, subsample=0.7999999999999999;, score=0.631 total time= 2.3min\n",
      "[CV 2/5] END colsample_bylevel=0.5, colsample_bytree=0.7999999999999999, gamma=0.1, learning_rate=0.2, max_depth=10, n_estimators=200, subsample=0.8999999999999999;, score=0.645 total time= 1.6min\n",
      "[CV 5/5] END colsample_bylevel=0.4, colsample_bytree=0.7, gamma=0.0, learning_rate=0.3, max_depth=10, n_estimators=100, subsample=0.6;, score=0.634 total time=  45.5s\n",
      "[CV 1/5] END colsample_bylevel=0.5, colsample_bytree=0.7999999999999999, gamma=0.1, learning_rate=0.2, max_depth=10, n_estimators=200, subsample=0.8999999999999999;, score=0.642 total time= 1.7min\n",
      "[CV 4/5] END colsample_bylevel=0.5, colsample_bytree=0.7999999999999999, gamma=0.1, learning_rate=0.2, max_depth=10, n_estimators=200, subsample=0.8999999999999999;, score=0.647 total time= 1.6min\n",
      "[CV 5/5] END colsample_bylevel=0.8999999999999999, colsample_bytree=0.7, gamma=0.0, learning_rate=0.1, max_depth=6, n_estimators=300, subsample=0.7999999999999999;, score=0.630 total time= 2.3min\n",
      "[CV 2/5] END colsample_bylevel=0.4, colsample_bytree=0.7, gamma=0.1, learning_rate=0.3, max_depth=5, n_estimators=200, subsample=0.5;, score=0.628 total time=  46.9s\n",
      "[CV 3/5] END colsample_bylevel=0.4, colsample_bytree=0.7, gamma=0.1, learning_rate=0.3, max_depth=5, n_estimators=200, subsample=0.5;, score=0.626 total time=  47.8s\n",
      "[CV 1/5] END colsample_bylevel=0.6, colsample_bytree=0.8999999999999999, gamma=0.0, learning_rate=0.01, max_depth=12, n_estimators=300, subsample=0.6;, score=0.631 total time= 4.3min\n",
      "[CV 1/5] END colsample_bylevel=0.4, colsample_bytree=0.7, gamma=0.1, learning_rate=0.3, max_depth=5, n_estimators=200, subsample=0.5;, score=0.626 total time=  49.9s\n",
      "[CV 5/5] END colsample_bylevel=0.5, colsample_bytree=0.7999999999999999, gamma=0.1, learning_rate=0.2, max_depth=10, n_estimators=200, subsample=0.8999999999999999;, score=0.640 total time= 1.7min\n",
      "[CV 4/5] END colsample_bylevel=0.6, colsample_bytree=0.8999999999999999, gamma=0.0, learning_rate=0.01, max_depth=12, n_estimators=300, subsample=0.6;, score=0.633 total time= 4.3min\n",
      "[CV 2/5] END colsample_bylevel=0.6, colsample_bytree=0.8999999999999999, gamma=0.0, learning_rate=0.01, max_depth=12, n_estimators=300, subsample=0.6;, score=0.630 total time= 4.4min\n",
      "[CV 3/5] END colsample_bylevel=0.6, colsample_bytree=0.8999999999999999, gamma=0.0, learning_rate=0.01, max_depth=12, n_estimators=300, subsample=0.6;, score=0.630 total time= 4.4min\n",
      "[CV 5/5] END colsample_bylevel=0.6, colsample_bytree=0.8999999999999999, gamma=0.0, learning_rate=0.01, max_depth=12, n_estimators=300, subsample=0.6;, score=0.630 total time= 4.4min\n",
      "[CV 4/5] END colsample_bylevel=0.4, colsample_bytree=0.7, gamma=0.1, learning_rate=0.3, max_depth=5, n_estimators=200, subsample=0.5;, score=0.628 total time=  48.3s\n",
      "[CV 5/5] END colsample_bylevel=0.4, colsample_bytree=0.7, gamma=0.1, learning_rate=0.3, max_depth=5, n_estimators=200, subsample=0.5;, score=0.628 total time=  51.7s\n",
      "[CV 2/5] END colsample_bylevel=0.6, colsample_bytree=0.5, gamma=0.1, learning_rate=0.1, max_depth=3, n_estimators=300, subsample=0.7;, score=0.619 total time=  46.7s\n",
      "[CV 1/5] END colsample_bylevel=0.6, colsample_bytree=0.5, gamma=0.1, learning_rate=0.1, max_depth=3, n_estimators=300, subsample=0.7;, score=0.620 total time=  49.1s\n",
      "[CV 3/5] END colsample_bylevel=0.6, colsample_bytree=0.5, gamma=0.1, learning_rate=0.1, max_depth=3, n_estimators=300, subsample=0.7;, score=0.619 total time=  49.4s\n",
      "[CV 1/5] END colsample_bylevel=0.5, colsample_bytree=0.7, gamma=0.2, learning_rate=0.2, max_depth=3, n_estimators=200, subsample=0.7;, score=0.623 total time=  35.4s\n",
      "[CV 4/5] END colsample_bylevel=0.6, colsample_bytree=0.5, gamma=0.1, learning_rate=0.1, max_depth=3, n_estimators=300, subsample=0.7;, score=0.620 total time=  48.5s\n",
      "[CV 5/5] END colsample_bylevel=0.6, colsample_bytree=0.5, gamma=0.1, learning_rate=0.1, max_depth=3, n_estimators=300, subsample=0.7;, score=0.618 total time=  49.2s\n",
      "[CV 2/5] END colsample_bylevel=0.5, colsample_bytree=0.7, gamma=0.2, learning_rate=0.2, max_depth=3, n_estimators=200, subsample=0.7;, score=0.620 total time=  35.0s\n",
      "[CV 3/5] END colsample_bylevel=0.5, colsample_bytree=0.7, gamma=0.2, learning_rate=0.2, max_depth=3, n_estimators=200, subsample=0.7;, score=0.620 total time=  35.1s\n",
      "[CV 4/5] END colsample_bylevel=0.5, colsample_bytree=0.7, gamma=0.2, learning_rate=0.2, max_depth=3, n_estimators=200, subsample=0.7;, score=0.623 total time=  34.1s\n",
      "[CV 5/5] END colsample_bylevel=0.5, colsample_bytree=0.7, gamma=0.2, learning_rate=0.2, max_depth=3, n_estimators=200, subsample=0.7;, score=0.622 total time=  32.9s\n",
      "[CV 2/5] END colsample_bylevel=0.7999999999999999, colsample_bytree=0.8999999999999999, gamma=0.0, learning_rate=0.2, max_depth=10, n_estimators=200, subsample=0.6;, score=0.641 total time= 3.2min\n",
      "[CV 3/5] END colsample_bylevel=0.7999999999999999, colsample_bytree=0.8999999999999999, gamma=0.0, learning_rate=0.2, max_depth=10, n_estimators=200, subsample=0.6;, score=0.635 total time= 3.2min\n",
      "[CV 1/5] END colsample_bylevel=0.7999999999999999, colsample_bytree=0.8999999999999999, gamma=0.0, learning_rate=0.2, max_depth=10, n_estimators=200, subsample=0.6;, score=0.642 total time= 3.3min\n",
      "[CV 4/5] END colsample_bylevel=0.7999999999999999, colsample_bytree=0.8999999999999999, gamma=0.0, learning_rate=0.2, max_depth=10, n_estimators=200, subsample=0.6;, score=0.647 total time= 3.2min\n",
      "[CV 5/5] END colsample_bylevel=0.7999999999999999, colsample_bytree=0.8999999999999999, gamma=0.0, learning_rate=0.2, max_depth=10, n_estimators=200, subsample=0.6;, score=0.640 total time= 3.2min\n",
      "[CV 1/5] END colsample_bylevel=0.5, colsample_bytree=0.5, gamma=0.2, learning_rate=0.1, max_depth=12, n_estimators=100, subsample=0.7999999999999999;, score=0.633 total time=  43.5s\n",
      "[CV 1/5] END colsample_bylevel=0.5, colsample_bytree=0.6, gamma=0.0, learning_rate=0.1, max_depth=12, n_estimators=100, subsample=0.7;, score=0.632 total time=  51.2s\n",
      "[CV 2/5] END colsample_bylevel=0.5, colsample_bytree=0.5, gamma=0.2, learning_rate=0.1, max_depth=12, n_estimators=100, subsample=0.7999999999999999;, score=0.631 total time=  44.9s\n",
      "[CV 3/5] END colsample_bylevel=0.5, colsample_bytree=0.6, gamma=0.0, learning_rate=0.1, max_depth=12, n_estimators=100, subsample=0.7;, score=0.635 total time=  53.0s\n",
      "[CV 3/5] END colsample_bylevel=0.5, colsample_bytree=0.5, gamma=0.2, learning_rate=0.1, max_depth=12, n_estimators=100, subsample=0.7999999999999999;, score=0.633 total time=  44.4s\n",
      "[CV 5/5] END colsample_bylevel=0.5, colsample_bytree=0.6, gamma=0.0, learning_rate=0.1, max_depth=12, n_estimators=100, subsample=0.7;, score=0.634 total time=  51.5s\n",
      "[CV 4/5] END colsample_bylevel=0.5, colsample_bytree=0.6, gamma=0.0, learning_rate=0.1, max_depth=12, n_estimators=100, subsample=0.7;, score=0.639 total time=  54.8s\n",
      "[CV 2/5] END colsample_bylevel=0.5, colsample_bytree=0.6, gamma=0.0, learning_rate=0.1, max_depth=12, n_estimators=100, subsample=0.7;, score=0.636 total time=  57.2s\n",
      "[CV 4/5] END colsample_bylevel=0.5, colsample_bytree=0.5, gamma=0.2, learning_rate=0.1, max_depth=12, n_estimators=100, subsample=0.7999999999999999;, score=0.636 total time=  43.0s\n",
      "[CV 5/5] END colsample_bylevel=0.5, colsample_bytree=0.5, gamma=0.2, learning_rate=0.1, max_depth=12, n_estimators=100, subsample=0.7999999999999999;, score=0.634 total time=  41.9s\n",
      "[CV 2/5] END colsample_bylevel=0.5, colsample_bytree=0.7999999999999999, gamma=0.0, learning_rate=0.2, max_depth=6, n_estimators=200, subsample=0.6;, score=0.630 total time= 1.1min\n",
      "[CV 1/5] END colsample_bylevel=0.5, colsample_bytree=0.7999999999999999, gamma=0.0, learning_rate=0.2, max_depth=6, n_estimators=200, subsample=0.6;, score=0.631 total time= 1.1min\n",
      "[CV 3/5] END colsample_bylevel=0.5, colsample_bytree=0.7999999999999999, gamma=0.0, learning_rate=0.2, max_depth=6, n_estimators=200, subsample=0.6;, score=0.631 total time= 1.1min\n",
      "[CV 4/5] END colsample_bylevel=0.5, colsample_bytree=0.7999999999999999, gamma=0.0, learning_rate=0.2, max_depth=6, n_estimators=200, subsample=0.6;, score=0.632 total time= 1.1min\n",
      "[CV 5/5] END colsample_bylevel=0.5, colsample_bytree=0.7999999999999999, gamma=0.0, learning_rate=0.2, max_depth=6, n_estimators=200, subsample=0.6;, score=0.630 total time= 1.1min\n",
      "[CV 3/5] END colsample_bylevel=0.7, colsample_bytree=0.7999999999999999, gamma=0.0, learning_rate=0.1, max_depth=10, n_estimators=100, subsample=0.7;, score=0.631 total time= 1.0min\n",
      "[CV 1/5] END colsample_bylevel=0.7, colsample_bytree=0.7999999999999999, gamma=0.0, learning_rate=0.1, max_depth=10, n_estimators=100, subsample=0.7;, score=0.634 total time= 1.1min\n",
      "[CV 1/5] END colsample_bylevel=0.7999999999999999, colsample_bytree=0.7999999999999999, gamma=0.1, learning_rate=0.1, max_depth=10, n_estimators=200, subsample=0.5;, score=0.638 total time= 2.8min\n",
      "[CV 2/5] END colsample_bylevel=0.7, colsample_bytree=0.7999999999999999, gamma=0.0, learning_rate=0.1, max_depth=10, n_estimators=100, subsample=0.7;, score=0.633 total time= 1.1min\n",
      "[CV 2/5] END colsample_bylevel=0.7999999999999999, colsample_bytree=0.7999999999999999, gamma=0.1, learning_rate=0.1, max_depth=10, n_estimators=200, subsample=0.5;, score=0.646 total time= 2.8min\n",
      "[CV 4/5] END colsample_bylevel=0.7, colsample_bytree=0.7999999999999999, gamma=0.0, learning_rate=0.1, max_depth=10, n_estimators=100, subsample=0.7;, score=0.637 total time= 1.1min\n",
      "[CV 3/5] END colsample_bylevel=0.7999999999999999, colsample_bytree=0.7999999999999999, gamma=0.1, learning_rate=0.1, max_depth=10, n_estimators=200, subsample=0.5;, score=0.642 total time= 2.8min\n",
      "[CV 4/5] END colsample_bylevel=0.7999999999999999, colsample_bytree=0.7999999999999999, gamma=0.1, learning_rate=0.1, max_depth=10, n_estimators=200, subsample=0.5;, score=0.644 total time= 2.8min\n",
      "[CV 5/5] END colsample_bylevel=0.7999999999999999, colsample_bytree=0.7999999999999999, gamma=0.1, learning_rate=0.1, max_depth=10, n_estimators=200, subsample=0.5;, score=0.636 total time= 2.8min\n",
      "[CV 5/5] END colsample_bylevel=0.7, colsample_bytree=0.7999999999999999, gamma=0.0, learning_rate=0.1, max_depth=10, n_estimators=100, subsample=0.7;, score=0.634 total time= 1.1min\n",
      "[CV 1/5] END colsample_bylevel=0.7, colsample_bytree=0.6, gamma=0.0, learning_rate=0.1, max_depth=14, n_estimators=300, subsample=0.7;, score=0.649 total time= 3.4min\n",
      "[CV 4/5] END colsample_bylevel=0.7, colsample_bytree=0.6, gamma=0.0, learning_rate=0.1, max_depth=14, n_estimators=300, subsample=0.7;, score=0.649 total time= 3.3min\n",
      "[CV 2/5] END colsample_bylevel=0.7, colsample_bytree=0.6, gamma=0.0, learning_rate=0.1, max_depth=14, n_estimators=300, subsample=0.7;, score=0.646 total time= 3.4min\n",
      "[CV 5/5] END colsample_bylevel=0.7, colsample_bytree=0.6, gamma=0.0, learning_rate=0.1, max_depth=14, n_estimators=300, subsample=0.7;, score=0.638 total time= 3.3min\n",
      "[CV 3/5] END colsample_bylevel=0.7, colsample_bytree=0.6, gamma=0.0, learning_rate=0.1, max_depth=14, n_estimators=300, subsample=0.7;, score=0.642 total time= 3.4min\n"
     ]
    },
    {
     "data": {
      "text/html": [
       "<style>#sk-container-id-1 {color: black;background-color: white;}#sk-container-id-1 pre{padding: 0;}#sk-container-id-1 div.sk-toggleable {background-color: white;}#sk-container-id-1 label.sk-toggleable__label {cursor: pointer;display: block;width: 100%;margin-bottom: 0;padding: 0.3em;box-sizing: border-box;text-align: center;}#sk-container-id-1 label.sk-toggleable__label-arrow:before {content: \"▸\";float: left;margin-right: 0.25em;color: #696969;}#sk-container-id-1 label.sk-toggleable__label-arrow:hover:before {color: black;}#sk-container-id-1 div.sk-estimator:hover label.sk-toggleable__label-arrow:before {color: black;}#sk-container-id-1 div.sk-toggleable__content {max-height: 0;max-width: 0;overflow: hidden;text-align: left;background-color: #f0f8ff;}#sk-container-id-1 div.sk-toggleable__content pre {margin: 0.2em;color: black;border-radius: 0.25em;background-color: #f0f8ff;}#sk-container-id-1 input.sk-toggleable__control:checked~div.sk-toggleable__content {max-height: 200px;max-width: 100%;overflow: auto;}#sk-container-id-1 input.sk-toggleable__control:checked~label.sk-toggleable__label-arrow:before {content: \"▾\";}#sk-container-id-1 div.sk-estimator input.sk-toggleable__control:checked~label.sk-toggleable__label {background-color: #d4ebff;}#sk-container-id-1 div.sk-label input.sk-toggleable__control:checked~label.sk-toggleable__label {background-color: #d4ebff;}#sk-container-id-1 input.sk-hidden--visually {border: 0;clip: rect(1px 1px 1px 1px);clip: rect(1px, 1px, 1px, 1px);height: 1px;margin: -1px;overflow: hidden;padding: 0;position: absolute;width: 1px;}#sk-container-id-1 div.sk-estimator {font-family: monospace;background-color: #f0f8ff;border: 1px dotted black;border-radius: 0.25em;box-sizing: border-box;margin-bottom: 0.5em;}#sk-container-id-1 div.sk-estimator:hover {background-color: #d4ebff;}#sk-container-id-1 div.sk-parallel-item::after {content: \"\";width: 100%;border-bottom: 1px solid gray;flex-grow: 1;}#sk-container-id-1 div.sk-label:hover label.sk-toggleable__label {background-color: #d4ebff;}#sk-container-id-1 div.sk-serial::before {content: \"\";position: absolute;border-left: 1px solid gray;box-sizing: border-box;top: 0;bottom: 0;left: 50%;z-index: 0;}#sk-container-id-1 div.sk-serial {display: flex;flex-direction: column;align-items: center;background-color: white;padding-right: 0.2em;padding-left: 0.2em;position: relative;}#sk-container-id-1 div.sk-item {position: relative;z-index: 1;}#sk-container-id-1 div.sk-parallel {display: flex;align-items: stretch;justify-content: center;background-color: white;position: relative;}#sk-container-id-1 div.sk-item::before, #sk-container-id-1 div.sk-parallel-item::before {content: \"\";position: absolute;border-left: 1px solid gray;box-sizing: border-box;top: 0;bottom: 0;left: 50%;z-index: -1;}#sk-container-id-1 div.sk-parallel-item {display: flex;flex-direction: column;z-index: 1;position: relative;background-color: white;}#sk-container-id-1 div.sk-parallel-item:first-child::after {align-self: flex-end;width: 50%;}#sk-container-id-1 div.sk-parallel-item:last-child::after {align-self: flex-start;width: 50%;}#sk-container-id-1 div.sk-parallel-item:only-child::after {width: 0;}#sk-container-id-1 div.sk-dashed-wrapped {border: 1px dashed gray;margin: 0 0.4em 0.5em 0.4em;box-sizing: border-box;padding-bottom: 0.4em;background-color: white;}#sk-container-id-1 div.sk-label label {font-family: monospace;font-weight: bold;display: inline-block;line-height: 1.2em;}#sk-container-id-1 div.sk-label-container {text-align: center;}#sk-container-id-1 div.sk-container {/* jupyter's `normalize.less` sets `[hidden] { display: none; }` but bootstrap.min.css set `[hidden] { display: none !important; }` so we also need the `!important` here to be able to override the default hidden behavior on the sphinx rendered scikit-learn.org. See: https://github.com/scikit-learn/scikit-learn/issues/21755 */display: inline-block !important;position: relative;}#sk-container-id-1 div.sk-text-repr-fallback {display: none;}</style><div id=\"sk-container-id-1\" class=\"sk-top-container\"><div class=\"sk-text-repr-fallback\"><pre>RandomizedSearchCV(cv=5,\n",
       "                   estimator=XGBClassifier(base_score=None, booster=None,\n",
       "                                           callbacks=None,\n",
       "                                           colsample_bylevel=None,\n",
       "                                           colsample_bynode=None,\n",
       "                                           colsample_bytree=None,\n",
       "                                           early_stopping_rounds=None,\n",
       "                                           enable_categorical=False,\n",
       "                                           eval_metric=&#x27;logloss&#x27;, gamma=None,\n",
       "                                           gpu_id=None, grow_policy=None,\n",
       "                                           importance_type=None,\n",
       "                                           interaction_constraints=None,\n",
       "                                           learning_rate=None, max_bin=...\n",
       "                   n_iter=40, n_jobs=-1,\n",
       "                   param_distributions={&#x27;colsample_bylevel&#x27;: array([0.4, 0.5, 0.6, 0.7, 0.8, 0.9]),\n",
       "                                        &#x27;colsample_bytree&#x27;: array([0.4, 0.5, 0.6, 0.7, 0.8, 0.9]),\n",
       "                                        &#x27;gamma&#x27;: array([0. , 0.1, 0.2]),\n",
       "                                        &#x27;learning_rate&#x27;: [0.01, 0.1, 0.2, 0.3],\n",
       "                                        &#x27;max_depth&#x27;: [3, 5, 6, 10, 12, 14],\n",
       "                                        &#x27;n_estimators&#x27;: array([100, 200, 300]),\n",
       "                                        &#x27;subsample&#x27;: array([0.5, 0.6, 0.7, 0.8, 0.9])},\n",
       "                   random_state=42, scoring=&#x27;f1_macro&#x27;, verbose=3)</pre><b>In a Jupyter environment, please rerun this cell to show the HTML representation or trust the notebook. <br />On GitHub, the HTML representation is unable to render, please try loading this page with nbviewer.org.</b></div><div class=\"sk-container\" hidden><div class=\"sk-item sk-dashed-wrapped\"><div class=\"sk-label-container\"><div class=\"sk-label sk-toggleable\"><input class=\"sk-toggleable__control sk-hidden--visually\" id=\"sk-estimator-id-1\" type=\"checkbox\" ><label for=\"sk-estimator-id-1\" class=\"sk-toggleable__label sk-toggleable__label-arrow\">RandomizedSearchCV</label><div class=\"sk-toggleable__content\"><pre>RandomizedSearchCV(cv=5,\n",
       "                   estimator=XGBClassifier(base_score=None, booster=None,\n",
       "                                           callbacks=None,\n",
       "                                           colsample_bylevel=None,\n",
       "                                           colsample_bynode=None,\n",
       "                                           colsample_bytree=None,\n",
       "                                           early_stopping_rounds=None,\n",
       "                                           enable_categorical=False,\n",
       "                                           eval_metric=&#x27;logloss&#x27;, gamma=None,\n",
       "                                           gpu_id=None, grow_policy=None,\n",
       "                                           importance_type=None,\n",
       "                                           interaction_constraints=None,\n",
       "                                           learning_rate=None, max_bin=...\n",
       "                   n_iter=40, n_jobs=-1,\n",
       "                   param_distributions={&#x27;colsample_bylevel&#x27;: array([0.4, 0.5, 0.6, 0.7, 0.8, 0.9]),\n",
       "                                        &#x27;colsample_bytree&#x27;: array([0.4, 0.5, 0.6, 0.7, 0.8, 0.9]),\n",
       "                                        &#x27;gamma&#x27;: array([0. , 0.1, 0.2]),\n",
       "                                        &#x27;learning_rate&#x27;: [0.01, 0.1, 0.2, 0.3],\n",
       "                                        &#x27;max_depth&#x27;: [3, 5, 6, 10, 12, 14],\n",
       "                                        &#x27;n_estimators&#x27;: array([100, 200, 300]),\n",
       "                                        &#x27;subsample&#x27;: array([0.5, 0.6, 0.7, 0.8, 0.9])},\n",
       "                   random_state=42, scoring=&#x27;f1_macro&#x27;, verbose=3)</pre></div></div></div><div class=\"sk-parallel\"><div class=\"sk-parallel-item\"><div class=\"sk-item\"><div class=\"sk-label-container\"><div class=\"sk-label sk-toggleable\"><input class=\"sk-toggleable__control sk-hidden--visually\" id=\"sk-estimator-id-2\" type=\"checkbox\" ><label for=\"sk-estimator-id-2\" class=\"sk-toggleable__label sk-toggleable__label-arrow\">estimator: XGBClassifier</label><div class=\"sk-toggleable__content\"><pre>XGBClassifier(base_score=None, booster=None, callbacks=None,\n",
       "              colsample_bylevel=None, colsample_bynode=None,\n",
       "              colsample_bytree=None, early_stopping_rounds=None,\n",
       "              enable_categorical=False, eval_metric=&#x27;logloss&#x27;, gamma=None,\n",
       "              gpu_id=None, grow_policy=None, importance_type=None,\n",
       "              interaction_constraints=None, learning_rate=None, max_bin=None,\n",
       "              max_cat_to_onehot=None, max_delta_step=None, max_depth=None,\n",
       "              max_leaves=None, min_child_weight=None, missing=nan,\n",
       "              monotone_constraints=None, n_estimators=100, n_jobs=None,\n",
       "              num_parallel_tree=None, predictor=None, random_state=42,\n",
       "              reg_alpha=None, reg_lambda=None, ...)</pre></div></div></div><div class=\"sk-serial\"><div class=\"sk-item\"><div class=\"sk-estimator sk-toggleable\"><input class=\"sk-toggleable__control sk-hidden--visually\" id=\"sk-estimator-id-3\" type=\"checkbox\" ><label for=\"sk-estimator-id-3\" class=\"sk-toggleable__label sk-toggleable__label-arrow\">XGBClassifier</label><div class=\"sk-toggleable__content\"><pre>XGBClassifier(base_score=None, booster=None, callbacks=None,\n",
       "              colsample_bylevel=None, colsample_bynode=None,\n",
       "              colsample_bytree=None, early_stopping_rounds=None,\n",
       "              enable_categorical=False, eval_metric=&#x27;logloss&#x27;, gamma=None,\n",
       "              gpu_id=None, grow_policy=None, importance_type=None,\n",
       "              interaction_constraints=None, learning_rate=None, max_bin=None,\n",
       "              max_cat_to_onehot=None, max_delta_step=None, max_depth=None,\n",
       "              max_leaves=None, min_child_weight=None, missing=nan,\n",
       "              monotone_constraints=None, n_estimators=100, n_jobs=None,\n",
       "              num_parallel_tree=None, predictor=None, random_state=42,\n",
       "              reg_alpha=None, reg_lambda=None, ...)</pre></div></div></div></div></div></div></div></div></div></div>"
      ],
      "text/plain": [
       "RandomizedSearchCV(cv=5,\n",
       "                   estimator=XGBClassifier(base_score=None, booster=None,\n",
       "                                           callbacks=None,\n",
       "                                           colsample_bylevel=None,\n",
       "                                           colsample_bynode=None,\n",
       "                                           colsample_bytree=None,\n",
       "                                           early_stopping_rounds=None,\n",
       "                                           enable_categorical=False,\n",
       "                                           eval_metric='logloss', gamma=None,\n",
       "                                           gpu_id=None, grow_policy=None,\n",
       "                                           importance_type=None,\n",
       "                                           interaction_constraints=None,\n",
       "                                           learning_rate=None, max_bin=...\n",
       "                   n_iter=40, n_jobs=-1,\n",
       "                   param_distributions={'colsample_bylevel': array([0.4, 0.5, 0.6, 0.7, 0.8, 0.9]),\n",
       "                                        'colsample_bytree': array([0.4, 0.5, 0.6, 0.7, 0.8, 0.9]),\n",
       "                                        'gamma': array([0. , 0.1, 0.2]),\n",
       "                                        'learning_rate': [0.01, 0.1, 0.2, 0.3],\n",
       "                                        'max_depth': [3, 5, 6, 10, 12, 14],\n",
       "                                        'n_estimators': array([100, 200, 300]),\n",
       "                                        'subsample': array([0.5, 0.6, 0.7, 0.8, 0.9])},\n",
       "                   random_state=42, scoring='f1_macro', verbose=3)"
      ]
     },
     "execution_count": 26,
     "metadata": {},
     "output_type": "execute_result"
    }
   ],
   "source": [
    "xgb_grid.fit(X, y)"
   ]
  },
  {
   "cell_type": "code",
   "execution_count": 27,
   "metadata": {},
   "outputs": [
    {
     "data": {
      "text/plain": [
       "{'subsample': 0.7,\n",
       " 'n_estimators': 300,\n",
       " 'max_depth': 14,\n",
       " 'learning_rate': 0.1,\n",
       " 'gamma': 0.0,\n",
       " 'colsample_bytree': 0.6,\n",
       " 'colsample_bylevel': 0.7}"
      ]
     },
     "execution_count": 27,
     "metadata": {},
     "output_type": "execute_result"
    }
   ],
   "source": [
    "xgb_grid.best_params_"
   ]
  },
  {
   "cell_type": "code",
   "execution_count": 29,
   "metadata": {},
   "outputs": [],
   "source": [
    "xgb_best = xgb_grid.best_estimator_\n",
    "X_test = test_df.drop(['Response'], axis=1)\n",
    "y_test = test_df['Response']\n",
    "y_pred = xgb_best.predict(X_test)\n",
    "f1 = f1_score(y_test, y_pred)\n",
    "accuracy = accuracy_score(y_test, y_pred)"
   ]
  },
  {
   "cell_type": "code",
   "execution_count": 30,
   "metadata": {},
   "outputs": [
    {
     "name": "stdout",
     "output_type": "stream",
     "text": [
      "0.17381334556294428\n",
      "0.8581905486604917\n"
     ]
    }
   ],
   "source": [
    "print(f1)\n",
    "print(accuracy)"
   ]
  },
  {
   "cell_type": "code",
   "execution_count": null,
   "metadata": {},
   "outputs": [],
   "source": []
  }
 ],
 "metadata": {
  "interpreter": {
   "hash": "60db4a95f2f77f0e64254fe64ea89c0c25da9af74818a5649ffbcb32f1cf9c72"
  },
  "kernelspec": {
   "display_name": "Python 3 (ipykernel)",
   "language": "python",
   "name": "python3"
  },
  "language_info": {
   "codemirror_mode": {
    "name": "ipython",
    "version": 3
   },
   "file_extension": ".py",
   "mimetype": "text/x-python",
   "name": "python",
   "nbconvert_exporter": "python",
   "pygments_lexer": "ipython3",
   "version": "3.8.10"
  }
 },
 "nbformat": 4,
 "nbformat_minor": 2
}
