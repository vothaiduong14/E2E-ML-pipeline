{
 "cells": [
  {
   "cell_type": "code",
   "execution_count": 2,
   "metadata": {},
   "outputs": [],
   "source": [
    "import pandas as pd\n",
    "import numpy as np\n",
    "import xgboost as xgb\n",
    "from xgboost import XGBClassifier\n",
    "from sklearn.model_selection import RandomizedSearchCV\n",
    "from sklearn.metrics import f1_score, accuracy_score, plot_confusion_matrix\n",
    "import matplotlib.pyplot as plt"
   ]
  },
  {
   "cell_type": "code",
   "execution_count": 2,
   "metadata": {},
   "outputs": [],
   "source": [
    "train_df = pd.read_csv('data/processed/train.csv')\n",
    "test_df = pd.read_csv('data/processed/test.csv')"
   ]
  },
  {
   "cell_type": "code",
   "execution_count": 3,
   "metadata": {},
   "outputs": [
    {
     "data": {
      "text/plain": [
       "(91466, 208)"
      ]
     },
     "execution_count": 3,
     "metadata": {},
     "output_type": "execute_result"
    }
   ],
   "source": [
    "train_df.shape"
   ]
  },
  {
   "cell_type": "code",
   "execution_count": 4,
   "metadata": {},
   "outputs": [],
   "source": [
    "X = train_df.drop(['Response'], axis=1)\n",
    "y = train_df['Response']"
   ]
  },
  {
   "cell_type": "code",
   "execution_count": 16,
   "metadata": {},
   "outputs": [
    {
     "data": {
      "text/plain": [
       "0    80175\n",
       "1    11291\n",
       "Name: Response, dtype: int64"
      ]
     },
     "execution_count": 16,
     "metadata": {},
     "output_type": "execute_result"
    }
   ],
   "source": [
    "y.value_counts()"
   ]
  },
  {
   "cell_type": "code",
   "execution_count": 5,
   "metadata": {},
   "outputs": [
    {
     "data": {
      "text/plain": [
       "7"
      ]
     },
     "execution_count": 5,
     "metadata": {},
     "output_type": "execute_result"
    }
   ],
   "source": [
    "# ratio of majority class to minority class (for the unbalanced dataset)\n",
    "scale_pos_weight = round(len(train_df['Response']) / sum(train_df['Response']) - 1)\n",
    "scale_pos_weight"
   ]
  },
  {
   "cell_type": "code",
   "execution_count": 6,
   "metadata": {},
   "outputs": [],
   "source": [
    "xgb_params = {'max_depth': [3, 5, 6, 10, 12, 14], # Maximum depth of a tree\n",
    "              'learning_rate': [0.01, 0.1, 0.2, 0.3], # Step size shrinkage used in update to prevents overfitting\n",
    "              'subsample': np.arange(0.5, 1.0, 0.1),\n",
    "              'colsample_bytree': np.arange(0.4, 1.0, 0.1), # Number of features supplied to a tree\n",
    "              'colsample_bylevel': np.arange(0.4, 1.0, 0.1),\n",
    "              'n_estimators': np.arange(100, 400, 100),\n",
    "              'gamma': np.arange(0, 0.3, 0.1)}"
   ]
  },
  {
   "cell_type": "code",
   "execution_count": 7,
   "metadata": {},
   "outputs": [],
   "source": [
    "\n",
    "\n",
    "estimator=XGBClassifier(objective='binary:logistic', \n",
    "                                                    #   tree_method=\"gpu_hist\", # Use GPU\n",
    "                                                      random_state=42,\n",
    "                                                      eval_metric='logloss',\n",
    "                                                      scale_pos_weight=scale_pos_weight)"
   ]
  },
  {
   "cell_type": "code",
   "execution_count": 8,
   "metadata": {},
   "outputs": [],
   "source": [
    "xgb_grid = RandomizedSearchCV(estimator=estimator, param_distributions=xgb_params, n_iter=40, cv=5, verbose=2, n_jobs = -1, scoring = 'f1')"
   ]
  },
  {
   "cell_type": "code",
   "execution_count": 9,
   "metadata": {},
   "outputs": [
    {
     "name": "stdout",
     "output_type": "stream",
     "text": [
      "Fitting 5 folds for each of 40 candidates, totalling 200 fits\n"
     ]
    },
    {
     "name": "stderr",
     "output_type": "stream",
     "text": [
      "[Parallel(n_jobs=-1)]: Using backend LokyBackend with 24 concurrent workers.\n"
     ]
    },
    {
     "name": "stdout",
     "output_type": "stream",
     "text": [
      "[CV] subsample=0.6, n_estimators=200, max_depth=14, learning_rate=0.1, gamma=0.2, colsample_bytree=0.7, colsample_bylevel=0.6 \n",
      "[CV] subsample=0.6, n_estimators=200, max_depth=14, learning_rate=0.1, gamma=0.2, colsample_bytree=0.7, colsample_bylevel=0.6 \n",
      "[CV] subsample=0.6, n_estimators=200, max_depth=14, learning_rate=0.1, gamma=0.2, colsample_bytree=0.7, colsample_bylevel=0.6 \n",
      "[CV] subsample=0.6, n_estimators=200, max_depth=14, learning_rate=0.1, gamma=0.2, colsample_bytree=0.7, colsample_bylevel=0.6 \n",
      "[CV] subsample=0.7, n_estimators=200, max_depth=10, learning_rate=0.1, gamma=0.1, colsample_bytree=0.4, colsample_bylevel=0.5 \n",
      "[CV] subsample=0.7, n_estimators=200, max_depth=10, learning_rate=0.1, gamma=0.1, colsample_bytree=0.4, colsample_bylevel=0.5 \n",
      "[CV] subsample=0.7, n_estimators=200, max_depth=10, learning_rate=0.1, gamma=0.1, colsample_bytree=0.4, colsample_bylevel=0.5 \n",
      "[CV] subsample=0.7, n_estimators=200, max_depth=10, learning_rate=0.1, gamma=0.1, colsample_bytree=0.4, colsample_bylevel=0.5 \n",
      "[CV] subsample=0.7, n_estimators=200, max_depth=10, learning_rate=0.1, gamma=0.1, colsample_bytree=0.4, colsample_bylevel=0.5 \n",
      "[CV] subsample=0.6, n_estimators=200, max_depth=14, learning_rate=0.1, gamma=0.2, colsample_bytree=0.7, colsample_bylevel=0.6 \n",
      "[CV] subsample=0.8999999999999999, n_estimators=100, max_depth=6, learning_rate=0.3, gamma=0.2, colsample_bytree=0.5, colsample_bylevel=0.5 [CV] subsample=0.8999999999999999, n_estimators=100, max_depth=6, learning_rate=0.3, gamma=0.2, colsample_bytree=0.5, colsample_bylevel=0.5 \n",
      "\n",
      "[CV] subsample=0.6, n_estimators=100, max_depth=14, learning_rate=0.2, gamma=0.0, colsample_bytree=0.7999999999999999, colsample_bylevel=0.7 \n",
      "[CV] subsample=0.8999999999999999, n_estimators=100, max_depth=6, learning_rate=0.3, gamma=0.2, colsample_bytree=0.5, colsample_bylevel=0.5 \n",
      "[CV] subsample=0.8999999999999999, n_estimators=100, max_depth=6, learning_rate=0.3, gamma=0.2, colsample_bytree=0.5, colsample_bylevel=0.5 \n",
      "[CV] subsample=0.6, n_estimators=100, max_depth=14, learning_rate=0.2, gamma=0.0, colsample_bytree=0.7999999999999999, colsample_bylevel=0.7 \n",
      "[CV] subsample=0.6, n_estimators=100, max_depth=14, learning_rate=0.2, gamma=0.0, colsample_bytree=0.7999999999999999, colsample_bylevel=0.7 \n",
      "[CV] subsample=0.6, n_estimators=100, max_depth=14, learning_rate=0.3, gamma=0.2, colsample_bytree=0.7999999999999999, colsample_bylevel=0.4 \n",
      "[CV] subsample=0.6, n_estimators=100, max_depth=14, learning_rate=0.2, gamma=0.0, colsample_bytree=0.7999999999999999, colsample_bylevel=0.7 \n",
      "[CV] subsample=0.6, n_estimators=100, max_depth=14, learning_rate=0.3, gamma=0.2, colsample_bytree=0.7999999999999999, colsample_bylevel=0.4 \n",
      "[CV] subsample=0.8999999999999999, n_estimators=100, max_depth=6, learning_rate=0.3, gamma=0.2, colsample_bytree=0.5, colsample_bylevel=0.5 \n",
      "[CV] subsample=0.6, n_estimators=100, max_depth=14, learning_rate=0.2, gamma=0.0, colsample_bytree=0.7999999999999999, colsample_bylevel=0.7 \n",
      "[CV] subsample=0.6, n_estimators=100, max_depth=14, learning_rate=0.3, gamma=0.2, colsample_bytree=0.7999999999999999, colsample_bylevel=0.4 \n",
      "[CV] subsample=0.6, n_estimators=100, max_depth=14, learning_rate=0.3, gamma=0.2, colsample_bytree=0.7999999999999999, colsample_bylevel=0.4 \n",
      "[CV]  subsample=0.8999999999999999, n_estimators=100, max_depth=6, learning_rate=0.3, gamma=0.2, colsample_bytree=0.5, colsample_bylevel=0.5, total=  20.6s\n",
      "[CV] subsample=0.6, n_estimators=100, max_depth=14, learning_rate=0.3, gamma=0.2, colsample_bytree=0.7999999999999999, colsample_bylevel=0.4 \n",
      "[CV]  subsample=0.8999999999999999, n_estimators=100, max_depth=6, learning_rate=0.3, gamma=0.2, colsample_bytree=0.5, colsample_bylevel=0.5, total=  21.3s\n",
      "[CV] subsample=0.5, n_estimators=200, max_depth=6, learning_rate=0.2, gamma=0.2, colsample_bytree=0.6, colsample_bylevel=0.6 \n",
      "[CV]  subsample=0.8999999999999999, n_estimators=100, max_depth=6, learning_rate=0.3, gamma=0.2, colsample_bytree=0.5, colsample_bylevel=0.5, total=  21.8s\n",
      "[CV] subsample=0.5, n_estimators=200, max_depth=6, learning_rate=0.2, gamma=0.2, colsample_bytree=0.6, colsample_bylevel=0.6 \n",
      "[CV]  subsample=0.8999999999999999, n_estimators=100, max_depth=6, learning_rate=0.3, gamma=0.2, colsample_bytree=0.5, colsample_bylevel=0.5, total=  22.2s\n",
      "[CV] subsample=0.5, n_estimators=200, max_depth=6, learning_rate=0.2, gamma=0.2, colsample_bytree=0.6, colsample_bylevel=0.6 \n",
      "[CV]  subsample=0.8999999999999999, n_estimators=100, max_depth=6, learning_rate=0.3, gamma=0.2, colsample_bytree=0.5, colsample_bylevel=0.5, total=  22.8s\n",
      "[CV] subsample=0.5, n_estimators=200, max_depth=6, learning_rate=0.2, gamma=0.2, colsample_bytree=0.6, colsample_bylevel=0.6 \n",
      "[CV]  subsample=0.7, n_estimators=200, max_depth=10, learning_rate=0.1, gamma=0.1, colsample_bytree=0.4, colsample_bylevel=0.5, total=  56.8s\n",
      "[CV] subsample=0.5, n_estimators=200, max_depth=6, learning_rate=0.2, gamma=0.2, colsample_bytree=0.6, colsample_bylevel=0.6 \n",
      "[CV]  subsample=0.7, n_estimators=200, max_depth=10, learning_rate=0.1, gamma=0.1, colsample_bytree=0.4, colsample_bylevel=0.5, total=  56.9s\n",
      "[CV] subsample=0.7, n_estimators=200, max_depth=3, learning_rate=0.01, gamma=0.0, colsample_bytree=0.5, colsample_bylevel=0.7 \n",
      "[CV]  subsample=0.7, n_estimators=200, max_depth=10, learning_rate=0.1, gamma=0.1, colsample_bytree=0.4, colsample_bylevel=0.5, total=  57.4s\n",
      "[CV]  subsample=0.7, n_estimators=200, max_depth=10, learning_rate=0.1, gamma=0.1, colsample_bytree=0.4, colsample_bylevel=0.5, total=  57.5s\n",
      "[CV] subsample=0.7, n_estimators=200, max_depth=3, learning_rate=0.01, gamma=0.0, colsample_bytree=0.5, colsample_bylevel=0.7 \n",
      "[CV] subsample=0.7, n_estimators=200, max_depth=3, learning_rate=0.01, gamma=0.0, colsample_bytree=0.5, colsample_bylevel=0.7 \n",
      "[CV]  subsample=0.7, n_estimators=200, max_depth=10, learning_rate=0.1, gamma=0.1, colsample_bytree=0.4, colsample_bylevel=0.5, total=  57.8s\n",
      "[CV] subsample=0.7, n_estimators=200, max_depth=3, learning_rate=0.01, gamma=0.0, colsample_bytree=0.5, colsample_bylevel=0.7 \n",
      "[CV]  subsample=0.6, n_estimators=100, max_depth=14, learning_rate=0.3, gamma=0.2, colsample_bytree=0.7999999999999999, colsample_bylevel=0.4, total= 1.0min\n",
      "[CV] subsample=0.7, n_estimators=200, max_depth=3, learning_rate=0.01, gamma=0.0, colsample_bytree=0.5, colsample_bylevel=0.7 \n",
      "[CV]  subsample=0.6, n_estimators=100, max_depth=14, learning_rate=0.3, gamma=0.2, colsample_bytree=0.7999999999999999, colsample_bylevel=0.4, total= 1.1min\n",
      "[CV]  subsample=0.6, n_estimators=100, max_depth=14, learning_rate=0.3, gamma=0.2, colsample_bytree=0.7999999999999999, colsample_bylevel=0.4, total= 1.1min\n",
      "[CV] subsample=0.7, n_estimators=100, max_depth=10, learning_rate=0.1, gamma=0.2, colsample_bytree=0.7999999999999999, colsample_bylevel=0.7 \n",
      "[CV] subsample=0.7, n_estimators=100, max_depth=10, learning_rate=0.1, gamma=0.2, colsample_bytree=0.7999999999999999, colsample_bylevel=0.7 \n",
      "[CV]  subsample=0.6, n_estimators=100, max_depth=14, learning_rate=0.3, gamma=0.2, colsample_bytree=0.7999999999999999, colsample_bylevel=0.4, total= 1.1min\n",
      "[CV] subsample=0.7, n_estimators=100, max_depth=10, learning_rate=0.1, gamma=0.2, colsample_bytree=0.7999999999999999, colsample_bylevel=0.7 \n",
      "[CV]  subsample=0.5, n_estimators=200, max_depth=6, learning_rate=0.2, gamma=0.2, colsample_bytree=0.6, colsample_bylevel=0.6, total=  59.8s\n",
      "[CV] subsample=0.7, n_estimators=100, max_depth=10, learning_rate=0.1, gamma=0.2, colsample_bytree=0.7999999999999999, colsample_bylevel=0.7 \n",
      "[CV]  subsample=0.6, n_estimators=100, max_depth=14, learning_rate=0.3, gamma=0.2, colsample_bytree=0.7999999999999999, colsample_bylevel=0.4, total= 1.0min\n",
      "[CV] subsample=0.7, n_estimators=100, max_depth=10, learning_rate=0.1, gamma=0.2, colsample_bytree=0.7999999999999999, colsample_bylevel=0.7 \n",
      "[CV]  subsample=0.5, n_estimators=200, max_depth=6, learning_rate=0.2, gamma=0.2, colsample_bytree=0.6, colsample_bylevel=0.6, total= 1.0min\n",
      "[CV] subsample=0.6, n_estimators=200, max_depth=14, learning_rate=0.1, gamma=0.1, colsample_bytree=0.4, colsample_bylevel=0.6 \n",
      "[CV]  subsample=0.5, n_estimators=200, max_depth=6, learning_rate=0.2, gamma=0.2, colsample_bytree=0.6, colsample_bylevel=0.6, total= 1.1min\n",
      "[CV] subsample=0.6, n_estimators=200, max_depth=14, learning_rate=0.1, gamma=0.1, colsample_bytree=0.4, colsample_bylevel=0.6 \n",
      "[CV]  subsample=0.5, n_estimators=200, max_depth=6, learning_rate=0.2, gamma=0.2, colsample_bytree=0.6, colsample_bylevel=0.6, total= 1.1min\n",
      "[CV] subsample=0.6, n_estimators=200, max_depth=14, learning_rate=0.1, gamma=0.1, colsample_bytree=0.4, colsample_bylevel=0.6 \n",
      "[CV]  subsample=0.7, n_estimators=200, max_depth=3, learning_rate=0.01, gamma=0.0, colsample_bytree=0.5, colsample_bylevel=0.7, total=  30.4s\n",
      "[CV] subsample=0.6, n_estimators=200, max_depth=14, learning_rate=0.1, gamma=0.1, colsample_bytree=0.4, colsample_bylevel=0.6 \n",
      "[CV]  subsample=0.7, n_estimators=200, max_depth=3, learning_rate=0.01, gamma=0.0, colsample_bytree=0.5, colsample_bylevel=0.7, total=  31.7s\n",
      "[CV] subsample=0.6, n_estimators=200, max_depth=14, learning_rate=0.1, gamma=0.1, colsample_bytree=0.4, colsample_bylevel=0.6 \n",
      "[CV]  subsample=0.7, n_estimators=200, max_depth=3, learning_rate=0.01, gamma=0.0, colsample_bytree=0.5, colsample_bylevel=0.7, total=  31.4s\n",
      "[CV] subsample=0.6, n_estimators=300, max_depth=6, learning_rate=0.2, gamma=0.0, colsample_bytree=0.8999999999999999, colsample_bylevel=0.7999999999999999 \n",
      "[CV]  subsample=0.7, n_estimators=200, max_depth=3, learning_rate=0.01, gamma=0.0, colsample_bytree=0.5, colsample_bylevel=0.7, total=  31.3s\n",
      "[CV] subsample=0.6, n_estimators=300, max_depth=6, learning_rate=0.2, gamma=0.0, colsample_bytree=0.8999999999999999, colsample_bylevel=0.7999999999999999 \n",
      "[CV]  subsample=0.7, n_estimators=200, max_depth=3, learning_rate=0.01, gamma=0.0, colsample_bytree=0.5, colsample_bylevel=0.7, total=  30.9s\n",
      "[CV] subsample=0.6, n_estimators=300, max_depth=6, learning_rate=0.2, gamma=0.0, colsample_bytree=0.8999999999999999, colsample_bylevel=0.7999999999999999 \n",
      "[CV]  subsample=0.6, n_estimators=100, max_depth=14, learning_rate=0.2, gamma=0.0, colsample_bytree=0.7999999999999999, colsample_bylevel=0.7, total= 1.6min\n",
      "[CV] subsample=0.6, n_estimators=300, max_depth=6, learning_rate=0.2, gamma=0.0, colsample_bytree=0.8999999999999999, colsample_bylevel=0.7999999999999999 \n",
      "[CV]  subsample=0.6, n_estimators=100, max_depth=14, learning_rate=0.2, gamma=0.0, colsample_bytree=0.7999999999999999, colsample_bylevel=0.7, total= 1.7min\n",
      "[CV] subsample=0.6, n_estimators=300, max_depth=6, learning_rate=0.2, gamma=0.0, colsample_bytree=0.8999999999999999, colsample_bylevel=0.7999999999999999 \n",
      "[CV]  subsample=0.6, n_estimators=100, max_depth=14, learning_rate=0.2, gamma=0.0, colsample_bytree=0.7999999999999999, colsample_bylevel=0.7, total= 1.7min\n",
      "[CV] subsample=0.7999999999999999, n_estimators=300, max_depth=3, learning_rate=0.1, gamma=0.1, colsample_bytree=0.6, colsample_bylevel=0.6 \n",
      "[CV]  subsample=0.6, n_estimators=100, max_depth=14, learning_rate=0.2, gamma=0.0, colsample_bytree=0.7999999999999999, colsample_bylevel=0.7, total= 1.7min\n",
      "[CV] subsample=0.7999999999999999, n_estimators=300, max_depth=3, learning_rate=0.1, gamma=0.1, colsample_bytree=0.6, colsample_bylevel=0.6 \n",
      "[CV]  subsample=0.6, n_estimators=100, max_depth=14, learning_rate=0.2, gamma=0.0, colsample_bytree=0.7999999999999999, colsample_bylevel=0.7, total= 1.7min\n",
      "[CV] subsample=0.7999999999999999, n_estimators=300, max_depth=3, learning_rate=0.1, gamma=0.1, colsample_bytree=0.6, colsample_bylevel=0.6 \n",
      "[CV]  subsample=0.5, n_estimators=200, max_depth=6, learning_rate=0.2, gamma=0.2, colsample_bytree=0.6, colsample_bylevel=0.6, total= 1.0min\n",
      "[CV] subsample=0.7999999999999999, n_estimators=300, max_depth=3, learning_rate=0.1, gamma=0.1, colsample_bytree=0.6, colsample_bylevel=0.6 \n",
      "[CV]  subsample=0.7, n_estimators=100, max_depth=10, learning_rate=0.1, gamma=0.2, colsample_bytree=0.7999999999999999, colsample_bylevel=0.7, total= 1.1min\n",
      "[CV] subsample=0.7999999999999999, n_estimators=300, max_depth=3, learning_rate=0.1, gamma=0.1, colsample_bytree=0.6, colsample_bylevel=0.6 \n",
      "[CV]  subsample=0.7, n_estimators=100, max_depth=10, learning_rate=0.1, gamma=0.2, colsample_bytree=0.7999999999999999, colsample_bylevel=0.7, total= 1.1min\n",
      "[CV] subsample=0.7, n_estimators=200, max_depth=3, learning_rate=0.2, gamma=0.1, colsample_bytree=0.7999999999999999, colsample_bylevel=0.5 \n",
      "[CV]  subsample=0.7, n_estimators=100, max_depth=10, learning_rate=0.1, gamma=0.2, colsample_bytree=0.7999999999999999, colsample_bylevel=0.7, total= 1.2min\n",
      "[CV] subsample=0.7, n_estimators=200, max_depth=3, learning_rate=0.2, gamma=0.1, colsample_bytree=0.7999999999999999, colsample_bylevel=0.5 \n",
      "[CV]  subsample=0.7999999999999999, n_estimators=300, max_depth=3, learning_rate=0.1, gamma=0.1, colsample_bytree=0.6, colsample_bylevel=0.6, total=  42.8s\n",
      "[CV] subsample=0.7, n_estimators=200, max_depth=3, learning_rate=0.2, gamma=0.1, colsample_bytree=0.7999999999999999, colsample_bylevel=0.5 \n",
      "[CV]  subsample=0.7999999999999999, n_estimators=300, max_depth=3, learning_rate=0.1, gamma=0.1, colsample_bytree=0.6, colsample_bylevel=0.6, total=  45.0s\n",
      "[CV] subsample=0.7, n_estimators=200, max_depth=3, learning_rate=0.2, gamma=0.1, colsample_bytree=0.7999999999999999, colsample_bylevel=0.5 \n",
      "[CV]  subsample=0.6, n_estimators=200, max_depth=14, learning_rate=0.1, gamma=0.2, colsample_bytree=0.7, colsample_bylevel=0.6, total= 2.5min\n",
      "[CV] subsample=0.7, n_estimators=200, max_depth=3, learning_rate=0.2, gamma=0.1, colsample_bytree=0.7999999999999999, colsample_bylevel=0.5 \n",
      "[CV]  subsample=0.6, n_estimators=200, max_depth=14, learning_rate=0.1, gamma=0.2, colsample_bytree=0.7, colsample_bylevel=0.6, total= 2.5min\n",
      "[CV] subsample=0.5, n_estimators=200, max_depth=12, learning_rate=0.01, gamma=0.0, colsample_bytree=0.6, colsample_bylevel=0.8999999999999999 \n",
      "[CV]  subsample=0.7999999999999999, n_estimators=300, max_depth=3, learning_rate=0.1, gamma=0.1, colsample_bytree=0.6, colsample_bylevel=0.6, total=  48.1s\n",
      "[CV] subsample=0.5, n_estimators=200, max_depth=12, learning_rate=0.01, gamma=0.0, colsample_bytree=0.6, colsample_bylevel=0.8999999999999999 \n",
      "[CV]  subsample=0.7, n_estimators=100, max_depth=10, learning_rate=0.1, gamma=0.2, colsample_bytree=0.7999999999999999, colsample_bylevel=0.7, total= 1.2min\n",
      "[CV] subsample=0.5, n_estimators=200, max_depth=12, learning_rate=0.01, gamma=0.0, colsample_bytree=0.6, colsample_bylevel=0.8999999999999999 \n",
      "[CV]  subsample=0.7, n_estimators=100, max_depth=10, learning_rate=0.1, gamma=0.2, colsample_bytree=0.7999999999999999, colsample_bylevel=0.7, total= 1.2min\n",
      "[CV] subsample=0.5, n_estimators=200, max_depth=12, learning_rate=0.01, gamma=0.0, colsample_bytree=0.6, colsample_bylevel=0.8999999999999999 \n",
      "[CV]  subsample=0.6, n_estimators=200, max_depth=14, learning_rate=0.1, gamma=0.2, colsample_bytree=0.7, colsample_bylevel=0.6, total= 2.6min\n",
      "[CV] subsample=0.5, n_estimators=200, max_depth=12, learning_rate=0.01, gamma=0.0, colsample_bytree=0.6, colsample_bylevel=0.8999999999999999 \n",
      "[CV]  subsample=0.6, n_estimators=200, max_depth=14, learning_rate=0.1, gamma=0.2, colsample_bytree=0.7, colsample_bylevel=0.6, total= 2.6min\n",
      "[CV] subsample=0.6, n_estimators=200, max_depth=14, learning_rate=0.1, gamma=0.0, colsample_bytree=0.4, colsample_bylevel=0.7999999999999999 \n",
      "[CV]  subsample=0.6, n_estimators=200, max_depth=14, learning_rate=0.1, gamma=0.2, colsample_bytree=0.7, colsample_bylevel=0.6, total= 2.6min\n",
      "[CV] subsample=0.6, n_estimators=200, max_depth=14, learning_rate=0.1, gamma=0.0, colsample_bytree=0.4, colsample_bylevel=0.7999999999999999 \n",
      "[CV]  subsample=0.7999999999999999, n_estimators=300, max_depth=3, learning_rate=0.1, gamma=0.1, colsample_bytree=0.6, colsample_bylevel=0.6, total=  44.3s\n",
      "[CV] subsample=0.6, n_estimators=200, max_depth=14, learning_rate=0.1, gamma=0.0, colsample_bytree=0.4, colsample_bylevel=0.7999999999999999 \n",
      "[CV]  subsample=0.7, n_estimators=200, max_depth=3, learning_rate=0.2, gamma=0.1, colsample_bytree=0.7999999999999999, colsample_bylevel=0.5, total=  34.3s\n",
      "[CV] subsample=0.6, n_estimators=200, max_depth=14, learning_rate=0.1, gamma=0.0, colsample_bytree=0.4, colsample_bylevel=0.7999999999999999 \n",
      "[CV]  subsample=0.7, n_estimators=200, max_depth=3, learning_rate=0.2, gamma=0.1, colsample_bytree=0.7999999999999999, colsample_bylevel=0.5, total=  36.9s\n",
      "[CV] subsample=0.6, n_estimators=200, max_depth=14, learning_rate=0.1, gamma=0.0, colsample_bytree=0.4, colsample_bylevel=0.7999999999999999 \n",
      "[CV]  subsample=0.7999999999999999, n_estimators=300, max_depth=3, learning_rate=0.1, gamma=0.1, colsample_bytree=0.6, colsample_bylevel=0.6, total=  45.8s\n",
      "[CV] subsample=0.7999999999999999, n_estimators=100, max_depth=6, learning_rate=0.1, gamma=0.1, colsample_bytree=0.7, colsample_bylevel=0.8999999999999999 \n",
      "[CV]  subsample=0.7, n_estimators=200, max_depth=3, learning_rate=0.2, gamma=0.1, colsample_bytree=0.7999999999999999, colsample_bylevel=0.5, total=  34.2s\n",
      "[CV] subsample=0.7999999999999999, n_estimators=100, max_depth=6, learning_rate=0.1, gamma=0.1, colsample_bytree=0.7, colsample_bylevel=0.8999999999999999 \n",
      "[CV]  subsample=0.7, n_estimators=200, max_depth=3, learning_rate=0.2, gamma=0.1, colsample_bytree=0.7999999999999999, colsample_bylevel=0.5, total=  33.8s\n",
      "[CV] subsample=0.7999999999999999, n_estimators=100, max_depth=6, learning_rate=0.1, gamma=0.1, colsample_bytree=0.7, colsample_bylevel=0.8999999999999999 \n",
      "[CV]  subsample=0.6, n_estimators=200, max_depth=14, learning_rate=0.1, gamma=0.1, colsample_bytree=0.4, colsample_bylevel=0.6, total= 1.6min\n",
      "[CV] subsample=0.7999999999999999, n_estimators=100, max_depth=6, learning_rate=0.1, gamma=0.1, colsample_bytree=0.7, colsample_bylevel=0.8999999999999999 \n",
      "[CV]  subsample=0.6, n_estimators=200, max_depth=14, learning_rate=0.1, gamma=0.1, colsample_bytree=0.4, colsample_bylevel=0.6, total= 1.6min\n",
      "[CV] subsample=0.7999999999999999, n_estimators=100, max_depth=6, learning_rate=0.1, gamma=0.1, colsample_bytree=0.7, colsample_bylevel=0.8999999999999999 \n",
      "[CV]  subsample=0.7, n_estimators=200, max_depth=3, learning_rate=0.2, gamma=0.1, colsample_bytree=0.7999999999999999, colsample_bylevel=0.5, total=  34.1s\n",
      "[CV] subsample=0.6, n_estimators=100, max_depth=3, learning_rate=0.2, gamma=0.0, colsample_bytree=0.6, colsample_bylevel=0.6 \n",
      "[CV]  subsample=0.6, n_estimators=200, max_depth=14, learning_rate=0.1, gamma=0.1, colsample_bytree=0.4, colsample_bylevel=0.6, total= 1.7min\n",
      "[CV] subsample=0.6, n_estimators=100, max_depth=3, learning_rate=0.2, gamma=0.0, colsample_bytree=0.6, colsample_bylevel=0.6 \n",
      "[CV]  subsample=0.6, n_estimators=200, max_depth=14, learning_rate=0.1, gamma=0.1, colsample_bytree=0.4, colsample_bylevel=0.6, total= 1.7min\n",
      "[CV] subsample=0.6, n_estimators=100, max_depth=3, learning_rate=0.2, gamma=0.0, colsample_bytree=0.6, colsample_bylevel=0.6 \n",
      "[CV]  subsample=0.6, n_estimators=200, max_depth=14, learning_rate=0.1, gamma=0.1, colsample_bytree=0.4, colsample_bylevel=0.6, total= 1.7min\n",
      "[CV] subsample=0.6, n_estimators=100, max_depth=3, learning_rate=0.2, gamma=0.0, colsample_bytree=0.6, colsample_bylevel=0.6 \n",
      "[CV]  subsample=0.6, n_estimators=100, max_depth=3, learning_rate=0.2, gamma=0.0, colsample_bytree=0.6, colsample_bylevel=0.6, total=  17.9s\n",
      "[CV] subsample=0.6, n_estimators=100, max_depth=3, learning_rate=0.2, gamma=0.0, colsample_bytree=0.6, colsample_bylevel=0.6 \n",
      "[CV]  subsample=0.6, n_estimators=100, max_depth=3, learning_rate=0.2, gamma=0.0, colsample_bytree=0.6, colsample_bylevel=0.6, total=  16.9s\n",
      "[CV] subsample=0.5, n_estimators=300, max_depth=14, learning_rate=0.3, gamma=0.2, colsample_bytree=0.7999999999999999, colsample_bylevel=0.5 \n",
      "[CV]  subsample=0.6, n_estimators=100, max_depth=3, learning_rate=0.2, gamma=0.0, colsample_bytree=0.6, colsample_bylevel=0.6, total=  17.4s\n",
      "[CV] subsample=0.5, n_estimators=300, max_depth=14, learning_rate=0.3, gamma=0.2, colsample_bytree=0.7999999999999999, colsample_bylevel=0.5 \n",
      "[CV]  subsample=0.6, n_estimators=100, max_depth=3, learning_rate=0.2, gamma=0.0, colsample_bytree=0.6, colsample_bylevel=0.6, total=  17.2s\n",
      "[CV] subsample=0.5, n_estimators=300, max_depth=14, learning_rate=0.3, gamma=0.2, colsample_bytree=0.7999999999999999, colsample_bylevel=0.5 \n",
      "[CV]  subsample=0.6, n_estimators=100, max_depth=3, learning_rate=0.2, gamma=0.0, colsample_bytree=0.6, colsample_bylevel=0.6, total=  17.6s\n",
      "[CV] subsample=0.5, n_estimators=300, max_depth=14, learning_rate=0.3, gamma=0.2, colsample_bytree=0.7999999999999999, colsample_bylevel=0.5 \n",
      "[CV]  subsample=0.7999999999999999, n_estimators=100, max_depth=6, learning_rate=0.1, gamma=0.1, colsample_bytree=0.7, colsample_bylevel=0.8999999999999999, total=  41.8s\n",
      "[CV] subsample=0.5, n_estimators=300, max_depth=14, learning_rate=0.3, gamma=0.2, colsample_bytree=0.7999999999999999, colsample_bylevel=0.5 \n",
      "[CV]  subsample=0.7999999999999999, n_estimators=100, max_depth=6, learning_rate=0.1, gamma=0.1, colsample_bytree=0.7, colsample_bylevel=0.8999999999999999, total=  44.7s\n",
      "[CV] subsample=0.7, n_estimators=300, max_depth=3, learning_rate=0.3, gamma=0.2, colsample_bytree=0.8999999999999999, colsample_bylevel=0.7999999999999999 \n",
      "[CV]  subsample=0.7999999999999999, n_estimators=100, max_depth=6, learning_rate=0.1, gamma=0.1, colsample_bytree=0.7, colsample_bylevel=0.8999999999999999, total=  42.5s\n",
      "[CV] subsample=0.7, n_estimators=300, max_depth=3, learning_rate=0.3, gamma=0.2, colsample_bytree=0.8999999999999999, colsample_bylevel=0.7999999999999999 \n",
      "[CV]  subsample=0.7999999999999999, n_estimators=100, max_depth=6, learning_rate=0.1, gamma=0.1, colsample_bytree=0.7, colsample_bylevel=0.8999999999999999, total=  43.1s\n",
      "[CV] subsample=0.7, n_estimators=300, max_depth=3, learning_rate=0.3, gamma=0.2, colsample_bytree=0.8999999999999999, colsample_bylevel=0.7999999999999999 \n",
      "[CV]  subsample=0.7999999999999999, n_estimators=100, max_depth=6, learning_rate=0.1, gamma=0.1, colsample_bytree=0.7, colsample_bylevel=0.8999999999999999, total=  44.3s\n",
      "[CV] subsample=0.7, n_estimators=300, max_depth=3, learning_rate=0.3, gamma=0.2, colsample_bytree=0.8999999999999999, colsample_bylevel=0.7999999999999999 \n",
      "[CV]  subsample=0.6, n_estimators=300, max_depth=6, learning_rate=0.2, gamma=0.0, colsample_bytree=0.8999999999999999, colsample_bylevel=0.7999999999999999, total= 2.6min\n",
      "[CV] subsample=0.7, n_estimators=300, max_depth=3, learning_rate=0.3, gamma=0.2, colsample_bytree=0.8999999999999999, colsample_bylevel=0.7999999999999999 \n",
      "[CV]  subsample=0.6, n_estimators=300, max_depth=6, learning_rate=0.2, gamma=0.0, colsample_bytree=0.8999999999999999, colsample_bylevel=0.7999999999999999, total= 2.6min\n",
      "[CV] subsample=0.6, n_estimators=300, max_depth=10, learning_rate=0.1, gamma=0.1, colsample_bytree=0.7999999999999999, colsample_bylevel=0.8999999999999999 \n",
      "[CV]  subsample=0.6, n_estimators=300, max_depth=6, learning_rate=0.2, gamma=0.0, colsample_bytree=0.8999999999999999, colsample_bylevel=0.7999999999999999, total= 2.8min\n",
      "[CV] subsample=0.6, n_estimators=300, max_depth=10, learning_rate=0.1, gamma=0.1, colsample_bytree=0.7999999999999999, colsample_bylevel=0.8999999999999999 \n",
      "[CV]  subsample=0.6, n_estimators=300, max_depth=6, learning_rate=0.2, gamma=0.0, colsample_bytree=0.8999999999999999, colsample_bylevel=0.7999999999999999, total= 2.7min\n",
      "[CV] subsample=0.6, n_estimators=300, max_depth=10, learning_rate=0.1, gamma=0.1, colsample_bytree=0.7999999999999999, colsample_bylevel=0.8999999999999999 \n",
      "[CV]  subsample=0.6, n_estimators=300, max_depth=6, learning_rate=0.2, gamma=0.0, colsample_bytree=0.8999999999999999, colsample_bylevel=0.7999999999999999, total= 2.7min\n",
      "[CV] subsample=0.6, n_estimators=300, max_depth=10, learning_rate=0.1, gamma=0.1, colsample_bytree=0.7999999999999999, colsample_bylevel=0.8999999999999999 \n",
      "[CV]  subsample=0.6, n_estimators=200, max_depth=14, learning_rate=0.1, gamma=0.0, colsample_bytree=0.4, colsample_bylevel=0.7999999999999999, total= 2.0min\n",
      "[CV] subsample=0.6, n_estimators=300, max_depth=10, learning_rate=0.1, gamma=0.1, colsample_bytree=0.7999999999999999, colsample_bylevel=0.8999999999999999 \n",
      "[CV]  subsample=0.6, n_estimators=200, max_depth=14, learning_rate=0.1, gamma=0.0, colsample_bytree=0.4, colsample_bylevel=0.7999999999999999, total= 2.1min\n",
      "[CV] subsample=0.8999999999999999, n_estimators=300, max_depth=6, learning_rate=0.1, gamma=0.1, colsample_bytree=0.7999999999999999, colsample_bylevel=0.5 \n",
      "[CV]  subsample=0.6, n_estimators=200, max_depth=14, learning_rate=0.1, gamma=0.0, colsample_bytree=0.4, colsample_bylevel=0.7999999999999999, total= 2.0min\n",
      "[CV] subsample=0.8999999999999999, n_estimators=300, max_depth=6, learning_rate=0.1, gamma=0.1, colsample_bytree=0.7999999999999999, colsample_bylevel=0.5 \n",
      "[CV]  subsample=0.6, n_estimators=200, max_depth=14, learning_rate=0.1, gamma=0.0, colsample_bytree=0.4, colsample_bylevel=0.7999999999999999, total= 1.9min\n",
      "[CV] subsample=0.8999999999999999, n_estimators=300, max_depth=6, learning_rate=0.1, gamma=0.1, colsample_bytree=0.7999999999999999, colsample_bylevel=0.5 \n",
      "[CV]  subsample=0.6, n_estimators=200, max_depth=14, learning_rate=0.1, gamma=0.0, colsample_bytree=0.4, colsample_bylevel=0.7999999999999999, total= 2.0min\n",
      "[CV] subsample=0.8999999999999999, n_estimators=300, max_depth=6, learning_rate=0.1, gamma=0.1, colsample_bytree=0.7999999999999999, colsample_bylevel=0.5 \n",
      "[CV]  subsample=0.7, n_estimators=300, max_depth=3, learning_rate=0.3, gamma=0.2, colsample_bytree=0.8999999999999999, colsample_bylevel=0.7999999999999999, total= 1.3min\n",
      "[CV] subsample=0.8999999999999999, n_estimators=300, max_depth=6, learning_rate=0.1, gamma=0.1, colsample_bytree=0.7999999999999999, colsample_bylevel=0.5 \n",
      "[CV]  subsample=0.7, n_estimators=300, max_depth=3, learning_rate=0.3, gamma=0.2, colsample_bytree=0.8999999999999999, colsample_bylevel=0.7999999999999999, total= 1.3min\n",
      "[CV] subsample=0.8999999999999999, n_estimators=200, max_depth=5, learning_rate=0.1, gamma=0.0, colsample_bytree=0.6, colsample_bylevel=0.4 \n",
      "[CV]  subsample=0.7, n_estimators=300, max_depth=3, learning_rate=0.3, gamma=0.2, colsample_bytree=0.8999999999999999, colsample_bylevel=0.7999999999999999, total= 1.3min\n",
      "[CV]  subsample=0.7, n_estimators=300, max_depth=3, learning_rate=0.3, gamma=0.2, colsample_bytree=0.8999999999999999, colsample_bylevel=0.7999999999999999, total= 1.3min\n",
      "[CV] subsample=0.8999999999999999, n_estimators=200, max_depth=5, learning_rate=0.1, gamma=0.0, colsample_bytree=0.6, colsample_bylevel=0.4 \n",
      "[CV] subsample=0.8999999999999999, n_estimators=200, max_depth=5, learning_rate=0.1, gamma=0.0, colsample_bytree=0.6, colsample_bylevel=0.4 \n",
      "[CV]  subsample=0.5, n_estimators=200, max_depth=12, learning_rate=0.01, gamma=0.0, colsample_bytree=0.6, colsample_bylevel=0.8999999999999999, total= 2.6min\n",
      "[CV] subsample=0.8999999999999999, n_estimators=200, max_depth=5, learning_rate=0.1, gamma=0.0, colsample_bytree=0.6, colsample_bylevel=0.4 \n",
      "[CV]  subsample=0.5, n_estimators=200, max_depth=12, learning_rate=0.01, gamma=0.0, colsample_bytree=0.6, colsample_bylevel=0.8999999999999999, total= 2.7min\n",
      "[CV] subsample=0.8999999999999999, n_estimators=200, max_depth=5, learning_rate=0.1, gamma=0.0, colsample_bytree=0.6, colsample_bylevel=0.4 \n",
      "[CV]  subsample=0.5, n_estimators=200, max_depth=12, learning_rate=0.01, gamma=0.0, colsample_bytree=0.6, colsample_bylevel=0.8999999999999999, total= 2.7min\n",
      "[CV] subsample=0.7999999999999999, n_estimators=300, max_depth=14, learning_rate=0.2, gamma=0.1, colsample_bytree=0.5, colsample_bylevel=0.5 \n",
      "[CV]  subsample=0.5, n_estimators=200, max_depth=12, learning_rate=0.01, gamma=0.0, colsample_bytree=0.6, colsample_bylevel=0.8999999999999999, total= 2.7min\n",
      "[CV] subsample=0.7999999999999999, n_estimators=300, max_depth=14, learning_rate=0.2, gamma=0.1, colsample_bytree=0.5, colsample_bylevel=0.5 \n",
      "[CV]  subsample=0.5, n_estimators=200, max_depth=12, learning_rate=0.01, gamma=0.0, colsample_bytree=0.6, colsample_bylevel=0.8999999999999999, total= 2.7min\n",
      "[CV] subsample=0.7999999999999999, n_estimators=300, max_depth=14, learning_rate=0.2, gamma=0.1, colsample_bytree=0.5, colsample_bylevel=0.5 \n",
      "[CV]  subsample=0.7, n_estimators=300, max_depth=3, learning_rate=0.3, gamma=0.2, colsample_bytree=0.8999999999999999, colsample_bylevel=0.7999999999999999, total= 1.4min\n",
      "[CV] subsample=0.7999999999999999, n_estimators=300, max_depth=14, learning_rate=0.2, gamma=0.1, colsample_bytree=0.5, colsample_bylevel=0.5 \n",
      "[CV]  subsample=0.8999999999999999, n_estimators=200, max_depth=5, learning_rate=0.1, gamma=0.0, colsample_bytree=0.6, colsample_bylevel=0.4, total=  34.8s\n",
      "[CV] subsample=0.7999999999999999, n_estimators=300, max_depth=14, learning_rate=0.2, gamma=0.1, colsample_bytree=0.5, colsample_bylevel=0.5 \n",
      "[CV]  subsample=0.8999999999999999, n_estimators=200, max_depth=5, learning_rate=0.1, gamma=0.0, colsample_bytree=0.6, colsample_bylevel=0.4, total=  34.5s\n",
      "[CV] subsample=0.6, n_estimators=100, max_depth=14, learning_rate=0.1, gamma=0.2, colsample_bytree=0.8999999999999999, colsample_bylevel=0.7 \n",
      "[CV]  subsample=0.8999999999999999, n_estimators=200, max_depth=5, learning_rate=0.1, gamma=0.0, colsample_bytree=0.6, colsample_bylevel=0.4, total=  37.2s\n",
      "[CV] subsample=0.6, n_estimators=100, max_depth=14, learning_rate=0.1, gamma=0.2, colsample_bytree=0.8999999999999999, colsample_bylevel=0.7 \n",
      "[CV]  subsample=0.8999999999999999, n_estimators=200, max_depth=5, learning_rate=0.1, gamma=0.0, colsample_bytree=0.6, colsample_bylevel=0.4, total=  34.1s\n",
      "[CV] subsample=0.6, n_estimators=100, max_depth=14, learning_rate=0.1, gamma=0.2, colsample_bytree=0.8999999999999999, colsample_bylevel=0.7 \n",
      "[CV]  subsample=0.8999999999999999, n_estimators=200, max_depth=5, learning_rate=0.1, gamma=0.0, colsample_bytree=0.6, colsample_bylevel=0.4, total=  34.1s\n",
      "[CV] subsample=0.6, n_estimators=100, max_depth=14, learning_rate=0.1, gamma=0.2, colsample_bytree=0.8999999999999999, colsample_bylevel=0.7 \n",
      "[CV]  subsample=0.8999999999999999, n_estimators=300, max_depth=6, learning_rate=0.1, gamma=0.1, colsample_bytree=0.7999999999999999, colsample_bylevel=0.5, total= 1.4min\n",
      "[CV] subsample=0.6, n_estimators=100, max_depth=14, learning_rate=0.1, gamma=0.2, colsample_bytree=0.8999999999999999, colsample_bylevel=0.7 \n",
      "[CV]  subsample=0.8999999999999999, n_estimators=300, max_depth=6, learning_rate=0.1, gamma=0.1, colsample_bytree=0.7999999999999999, colsample_bylevel=0.5, total= 1.4min\n",
      "[CV] subsample=0.6, n_estimators=100, max_depth=6, learning_rate=0.01, gamma=0.0, colsample_bytree=0.7999999999999999, colsample_bylevel=0.7 \n",
      "[CV]  subsample=0.8999999999999999, n_estimators=300, max_depth=6, learning_rate=0.1, gamma=0.1, colsample_bytree=0.7999999999999999, colsample_bylevel=0.5, total= 1.4min\n",
      "[CV] subsample=0.6, n_estimators=100, max_depth=6, learning_rate=0.01, gamma=0.0, colsample_bytree=0.7999999999999999, colsample_bylevel=0.7 \n",
      "[CV]  subsample=0.8999999999999999, n_estimators=300, max_depth=6, learning_rate=0.1, gamma=0.1, colsample_bytree=0.7999999999999999, colsample_bylevel=0.5, total= 1.4min\n",
      "[CV] subsample=0.6, n_estimators=100, max_depth=6, learning_rate=0.01, gamma=0.0, colsample_bytree=0.7999999999999999, colsample_bylevel=0.7 \n",
      "[CV]  subsample=0.8999999999999999, n_estimators=300, max_depth=6, learning_rate=0.1, gamma=0.1, colsample_bytree=0.7999999999999999, colsample_bylevel=0.5, total= 1.4min\n",
      "[CV] subsample=0.6, n_estimators=100, max_depth=6, learning_rate=0.01, gamma=0.0, colsample_bytree=0.7999999999999999, colsample_bylevel=0.7 \n",
      "[CV]  subsample=0.6, n_estimators=100, max_depth=6, learning_rate=0.01, gamma=0.0, colsample_bytree=0.7999999999999999, colsample_bylevel=0.7, total=  42.6s\n",
      "[CV] subsample=0.6, n_estimators=100, max_depth=6, learning_rate=0.01, gamma=0.0, colsample_bytree=0.7999999999999999, colsample_bylevel=0.7 \n",
      "[CV]  subsample=0.6, n_estimators=100, max_depth=6, learning_rate=0.01, gamma=0.0, colsample_bytree=0.7999999999999999, colsample_bylevel=0.7, total=  43.9s\n",
      "[CV] subsample=0.7999999999999999, n_estimators=100, max_depth=3, learning_rate=0.01, gamma=0.0, colsample_bytree=0.7, colsample_bylevel=0.4 \n",
      "[CV]  subsample=0.6, n_estimators=100, max_depth=6, learning_rate=0.01, gamma=0.0, colsample_bytree=0.7999999999999999, colsample_bylevel=0.7, total=  43.5s\n",
      "[CV] subsample=0.7999999999999999, n_estimators=100, max_depth=3, learning_rate=0.01, gamma=0.0, colsample_bytree=0.7, colsample_bylevel=0.4 \n",
      "[CV]  subsample=0.5, n_estimators=300, max_depth=14, learning_rate=0.3, gamma=0.2, colsample_bytree=0.7999999999999999, colsample_bylevel=0.5, total= 3.6min\n",
      "[CV] subsample=0.7999999999999999, n_estimators=100, max_depth=3, learning_rate=0.01, gamma=0.0, colsample_bytree=0.7, colsample_bylevel=0.4 \n",
      "[CV]  subsample=0.5, n_estimators=300, max_depth=14, learning_rate=0.3, gamma=0.2, colsample_bytree=0.7999999999999999, colsample_bylevel=0.5, total= 3.7min\n",
      "[CV] subsample=0.7999999999999999, n_estimators=100, max_depth=3, learning_rate=0.01, gamma=0.0, colsample_bytree=0.7, colsample_bylevel=0.4 \n",
      "[CV]  subsample=0.6, n_estimators=100, max_depth=6, learning_rate=0.01, gamma=0.0, colsample_bytree=0.7999999999999999, colsample_bylevel=0.7, total=  44.5s\n",
      "[CV] subsample=0.7999999999999999, n_estimators=100, max_depth=3, learning_rate=0.01, gamma=0.0, colsample_bytree=0.7, colsample_bylevel=0.4 \n",
      "[CV]  subsample=0.5, n_estimators=300, max_depth=14, learning_rate=0.3, gamma=0.2, colsample_bytree=0.7999999999999999, colsample_bylevel=0.5, total= 3.7min\n",
      "[CV] subsample=0.7999999999999999, n_estimators=200, max_depth=3, learning_rate=0.3, gamma=0.1, colsample_bytree=0.5, colsample_bylevel=0.5 \n",
      "[CV]  subsample=0.7999999999999999, n_estimators=100, max_depth=3, learning_rate=0.01, gamma=0.0, colsample_bytree=0.7, colsample_bylevel=0.4, total=  14.0s\n",
      "[CV] subsample=0.7999999999999999, n_estimators=200, max_depth=3, learning_rate=0.3, gamma=0.1, colsample_bytree=0.5, colsample_bylevel=0.5 \n",
      "[CV]  subsample=0.7999999999999999, n_estimators=100, max_depth=3, learning_rate=0.01, gamma=0.0, colsample_bytree=0.7, colsample_bylevel=0.4, total=  13.8s\n",
      "[CV] subsample=0.7999999999999999, n_estimators=200, max_depth=3, learning_rate=0.3, gamma=0.1, colsample_bytree=0.5, colsample_bylevel=0.5 \n",
      "[CV]  subsample=0.5, n_estimators=300, max_depth=14, learning_rate=0.3, gamma=0.2, colsample_bytree=0.7999999999999999, colsample_bylevel=0.5, total= 3.6min\n",
      "[CV] subsample=0.7999999999999999, n_estimators=200, max_depth=3, learning_rate=0.3, gamma=0.1, colsample_bytree=0.5, colsample_bylevel=0.5 \n",
      "[CV]  subsample=0.7999999999999999, n_estimators=100, max_depth=3, learning_rate=0.01, gamma=0.0, colsample_bytree=0.7, colsample_bylevel=0.4, total=  13.1s\n",
      "[CV] subsample=0.7999999999999999, n_estimators=200, max_depth=3, learning_rate=0.3, gamma=0.1, colsample_bytree=0.5, colsample_bylevel=0.5 \n",
      "[CV]  subsample=0.7999999999999999, n_estimators=100, max_depth=3, learning_rate=0.01, gamma=0.0, colsample_bytree=0.7, colsample_bylevel=0.4, total=  14.0s\n",
      "[CV] subsample=0.7999999999999999, n_estimators=300, max_depth=14, learning_rate=0.1, gamma=0.2, colsample_bytree=0.6, colsample_bylevel=0.8999999999999999 \n",
      "[CV]  subsample=0.7999999999999999, n_estimators=100, max_depth=3, learning_rate=0.01, gamma=0.0, colsample_bytree=0.7, colsample_bylevel=0.4, total=  14.1s\n",
      "[CV] subsample=0.7999999999999999, n_estimators=300, max_depth=14, learning_rate=0.1, gamma=0.2, colsample_bytree=0.6, colsample_bylevel=0.8999999999999999 \n",
      "[CV]  subsample=0.7999999999999999, n_estimators=300, max_depth=14, learning_rate=0.2, gamma=0.1, colsample_bytree=0.5, colsample_bylevel=0.5, total= 2.2min\n",
      "[CV] subsample=0.7999999999999999, n_estimators=300, max_depth=14, learning_rate=0.1, gamma=0.2, colsample_bytree=0.6, colsample_bylevel=0.8999999999999999 \n",
      "[CV]  subsample=0.7999999999999999, n_estimators=300, max_depth=14, learning_rate=0.2, gamma=0.1, colsample_bytree=0.5, colsample_bylevel=0.5, total= 2.1min\n",
      "[CV] subsample=0.7999999999999999, n_estimators=300, max_depth=14, learning_rate=0.1, gamma=0.2, colsample_bytree=0.6, colsample_bylevel=0.8999999999999999 \n",
      "[CV]  subsample=0.6, n_estimators=100, max_depth=14, learning_rate=0.1, gamma=0.2, colsample_bytree=0.8999999999999999, colsample_bylevel=0.7, total= 1.8min\n",
      "[CV] subsample=0.7999999999999999, n_estimators=300, max_depth=14, learning_rate=0.1, gamma=0.2, colsample_bytree=0.6, colsample_bylevel=0.8999999999999999 \n",
      "[CV]  subsample=0.5, n_estimators=300, max_depth=14, learning_rate=0.3, gamma=0.2, colsample_bytree=0.7999999999999999, colsample_bylevel=0.5, total= 3.8min\n",
      "[CV] subsample=0.7999999999999999, n_estimators=300, max_depth=14, learning_rate=0.2, gamma=0.2, colsample_bytree=0.4, colsample_bylevel=0.7999999999999999 \n",
      "[CV]  subsample=0.6, n_estimators=100, max_depth=14, learning_rate=0.1, gamma=0.2, colsample_bytree=0.8999999999999999, colsample_bylevel=0.7, total= 1.8min\n",
      "[CV] subsample=0.7999999999999999, n_estimators=300, max_depth=14, learning_rate=0.2, gamma=0.2, colsample_bytree=0.4, colsample_bylevel=0.7999999999999999 \n",
      "[CV]  subsample=0.7999999999999999, n_estimators=300, max_depth=14, learning_rate=0.2, gamma=0.1, colsample_bytree=0.5, colsample_bylevel=0.5, total= 2.2min\n",
      "[CV] subsample=0.7999999999999999, n_estimators=300, max_depth=14, learning_rate=0.2, gamma=0.2, colsample_bytree=0.4, colsample_bylevel=0.7999999999999999 \n"
     ]
    },
    {
     "name": "stderr",
     "output_type": "stream",
     "text": [
      "[Parallel(n_jobs=-1)]: Done 114 tasks      | elapsed:  7.5min\n"
     ]
    },
    {
     "name": "stdout",
     "output_type": "stream",
     "text": [
      "[CV]  subsample=0.6, n_estimators=100, max_depth=14, learning_rate=0.1, gamma=0.2, colsample_bytree=0.8999999999999999, colsample_bylevel=0.7, total= 1.8min\n",
      "[CV] subsample=0.7999999999999999, n_estimators=300, max_depth=14, learning_rate=0.2, gamma=0.2, colsample_bytree=0.4, colsample_bylevel=0.7999999999999999 \n",
      "[CV]  subsample=0.7999999999999999, n_estimators=200, max_depth=3, learning_rate=0.3, gamma=0.1, colsample_bytree=0.5, colsample_bylevel=0.5, total=  24.2s\n",
      "[CV] subsample=0.7999999999999999, n_estimators=300, max_depth=14, learning_rate=0.2, gamma=0.2, colsample_bytree=0.4, colsample_bylevel=0.7999999999999999 \n",
      "[CV]  subsample=0.7999999999999999, n_estimators=200, max_depth=3, learning_rate=0.3, gamma=0.1, colsample_bytree=0.5, colsample_bylevel=0.5, total=  25.0s\n",
      "[CV] subsample=0.5, n_estimators=300, max_depth=10, learning_rate=0.3, gamma=0.1, colsample_bytree=0.5, colsample_bylevel=0.6 \n",
      "[CV]  subsample=0.6, n_estimators=100, max_depth=14, learning_rate=0.1, gamma=0.2, colsample_bytree=0.8999999999999999, colsample_bylevel=0.7, total= 1.8min\n",
      "[CV] subsample=0.5, n_estimators=300, max_depth=10, learning_rate=0.3, gamma=0.1, colsample_bytree=0.5, colsample_bylevel=0.6 \n",
      "[CV]  subsample=0.6, n_estimators=100, max_depth=6, learning_rate=0.01, gamma=0.0, colsample_bytree=0.7999999999999999, colsample_bylevel=0.7, total=  45.8s\n",
      "[CV] subsample=0.5, n_estimators=300, max_depth=10, learning_rate=0.3, gamma=0.1, colsample_bytree=0.5, colsample_bylevel=0.6 \n",
      "[CV]  subsample=0.7999999999999999, n_estimators=200, max_depth=3, learning_rate=0.3, gamma=0.1, colsample_bytree=0.5, colsample_bylevel=0.5, total=  27.1s\n",
      "[CV] subsample=0.5, n_estimators=300, max_depth=10, learning_rate=0.3, gamma=0.1, colsample_bytree=0.5, colsample_bylevel=0.6 \n",
      "[CV]  subsample=0.7999999999999999, n_estimators=200, max_depth=3, learning_rate=0.3, gamma=0.1, colsample_bytree=0.5, colsample_bylevel=0.5, total=  24.7s\n",
      "[CV] subsample=0.5, n_estimators=300, max_depth=10, learning_rate=0.3, gamma=0.1, colsample_bytree=0.5, colsample_bylevel=0.6 \n",
      "[CV]  subsample=0.7999999999999999, n_estimators=200, max_depth=3, learning_rate=0.3, gamma=0.1, colsample_bytree=0.5, colsample_bylevel=0.5, total=  24.7s\n",
      "[CV] subsample=0.6, n_estimators=300, max_depth=14, learning_rate=0.1, gamma=0.0, colsample_bytree=0.4, colsample_bylevel=0.6 \n",
      "[CV]  subsample=0.7999999999999999, n_estimators=300, max_depth=14, learning_rate=0.2, gamma=0.1, colsample_bytree=0.5, colsample_bylevel=0.5, total= 2.3min\n",
      "[CV] subsample=0.6, n_estimators=300, max_depth=14, learning_rate=0.1, gamma=0.0, colsample_bytree=0.4, colsample_bylevel=0.6 \n",
      "[CV]  subsample=0.7999999999999999, n_estimators=300, max_depth=14, learning_rate=0.2, gamma=0.1, colsample_bytree=0.5, colsample_bylevel=0.5, total= 2.2min\n",
      "[CV] subsample=0.6, n_estimators=300, max_depth=14, learning_rate=0.1, gamma=0.0, colsample_bytree=0.4, colsample_bylevel=0.6 \n",
      "[CV]  subsample=0.6, n_estimators=100, max_depth=14, learning_rate=0.1, gamma=0.2, colsample_bytree=0.8999999999999999, colsample_bylevel=0.7, total= 1.8min\n",
      "[CV] subsample=0.6, n_estimators=300, max_depth=14, learning_rate=0.1, gamma=0.0, colsample_bytree=0.4, colsample_bylevel=0.6 \n",
      "[CV]  subsample=0.6, n_estimators=300, max_depth=10, learning_rate=0.1, gamma=0.1, colsample_bytree=0.7999999999999999, colsample_bylevel=0.8999999999999999, total= 4.5min\n",
      "[CV] subsample=0.6, n_estimators=300, max_depth=14, learning_rate=0.1, gamma=0.0, colsample_bytree=0.4, colsample_bylevel=0.6 \n",
      "[CV]  subsample=0.6, n_estimators=300, max_depth=10, learning_rate=0.1, gamma=0.1, colsample_bytree=0.7999999999999999, colsample_bylevel=0.8999999999999999, total= 4.4min\n",
      "[CV] subsample=0.5, n_estimators=300, max_depth=14, learning_rate=0.1, gamma=0.2, colsample_bytree=0.7, colsample_bylevel=0.7 \n",
      "[CV]  subsample=0.6, n_estimators=300, max_depth=10, learning_rate=0.1, gamma=0.1, colsample_bytree=0.7999999999999999, colsample_bylevel=0.8999999999999999, total= 4.4min\n",
      "[CV] subsample=0.5, n_estimators=300, max_depth=14, learning_rate=0.1, gamma=0.2, colsample_bytree=0.7, colsample_bylevel=0.7 \n",
      "[CV]  subsample=0.6, n_estimators=300, max_depth=10, learning_rate=0.1, gamma=0.1, colsample_bytree=0.7999999999999999, colsample_bylevel=0.8999999999999999, total= 4.5min\n",
      "[CV] subsample=0.5, n_estimators=300, max_depth=14, learning_rate=0.1, gamma=0.2, colsample_bytree=0.7, colsample_bylevel=0.7 \n",
      "[CV]  subsample=0.6, n_estimators=300, max_depth=10, learning_rate=0.1, gamma=0.1, colsample_bytree=0.7999999999999999, colsample_bylevel=0.8999999999999999, total= 4.5min\n",
      "[CV] subsample=0.5, n_estimators=300, max_depth=14, learning_rate=0.1, gamma=0.2, colsample_bytree=0.7, colsample_bylevel=0.7 \n",
      "[CV]  subsample=0.5, n_estimators=300, max_depth=10, learning_rate=0.3, gamma=0.1, colsample_bytree=0.5, colsample_bylevel=0.6, total= 2.1min\n",
      "[CV] subsample=0.5, n_estimators=300, max_depth=14, learning_rate=0.1, gamma=0.2, colsample_bytree=0.7, colsample_bylevel=0.7 \n",
      "[CV]  subsample=0.5, n_estimators=300, max_depth=10, learning_rate=0.3, gamma=0.1, colsample_bytree=0.5, colsample_bylevel=0.6, total= 2.1min\n",
      "[CV] subsample=0.7, n_estimators=300, max_depth=5, learning_rate=0.3, gamma=0.2, colsample_bytree=0.7999999999999999, colsample_bylevel=0.4 \n",
      "[CV]  subsample=0.5, n_estimators=300, max_depth=10, learning_rate=0.3, gamma=0.1, colsample_bytree=0.5, colsample_bylevel=0.6, total= 2.2min\n",
      "[CV] subsample=0.7, n_estimators=300, max_depth=5, learning_rate=0.3, gamma=0.2, colsample_bytree=0.7999999999999999, colsample_bylevel=0.4 \n",
      "[CV]  subsample=0.5, n_estimators=300, max_depth=10, learning_rate=0.3, gamma=0.1, colsample_bytree=0.5, colsample_bylevel=0.6, total= 2.2min\n",
      "[CV] subsample=0.7, n_estimators=300, max_depth=5, learning_rate=0.3, gamma=0.2, colsample_bytree=0.7999999999999999, colsample_bylevel=0.4 \n",
      "[CV]  subsample=0.5, n_estimators=300, max_depth=10, learning_rate=0.3, gamma=0.1, colsample_bytree=0.5, colsample_bylevel=0.6, total= 2.1min\n",
      "[CV] subsample=0.7, n_estimators=300, max_depth=5, learning_rate=0.3, gamma=0.2, colsample_bytree=0.7999999999999999, colsample_bylevel=0.4 \n",
      "[CV]  subsample=0.6, n_estimators=300, max_depth=14, learning_rate=0.1, gamma=0.0, colsample_bytree=0.4, colsample_bylevel=0.6, total= 2.4min\n",
      "[CV] subsample=0.7, n_estimators=300, max_depth=5, learning_rate=0.3, gamma=0.2, colsample_bytree=0.7999999999999999, colsample_bylevel=0.4 \n",
      "[CV]  subsample=0.6, n_estimators=300, max_depth=14, learning_rate=0.1, gamma=0.0, colsample_bytree=0.4, colsample_bylevel=0.6, total= 2.4min\n",
      "[CV] subsample=0.6, n_estimators=200, max_depth=5, learning_rate=0.1, gamma=0.0, colsample_bytree=0.5, colsample_bylevel=0.7 \n",
      "[CV]  subsample=0.7999999999999999, n_estimators=300, max_depth=14, learning_rate=0.2, gamma=0.2, colsample_bytree=0.4, colsample_bylevel=0.7999999999999999, total= 2.7min\n",
      "[CV] subsample=0.6, n_estimators=200, max_depth=5, learning_rate=0.1, gamma=0.0, colsample_bytree=0.5, colsample_bylevel=0.7 \n",
      "[CV]  subsample=0.6, n_estimators=300, max_depth=14, learning_rate=0.1, gamma=0.0, colsample_bytree=0.4, colsample_bylevel=0.6, total= 2.5min\n",
      "[CV] subsample=0.6, n_estimators=200, max_depth=5, learning_rate=0.1, gamma=0.0, colsample_bytree=0.5, colsample_bylevel=0.7 \n",
      "[CV]  subsample=0.7999999999999999, n_estimators=300, max_depth=14, learning_rate=0.2, gamma=0.2, colsample_bytree=0.4, colsample_bylevel=0.7999999999999999, total= 2.7min\n",
      "[CV] subsample=0.6, n_estimators=200, max_depth=5, learning_rate=0.1, gamma=0.0, colsample_bytree=0.5, colsample_bylevel=0.7 \n",
      "[CV]  subsample=0.7999999999999999, n_estimators=300, max_depth=14, learning_rate=0.2, gamma=0.2, colsample_bytree=0.4, colsample_bylevel=0.7999999999999999, total= 2.7min\n",
      "[CV] subsample=0.6, n_estimators=200, max_depth=5, learning_rate=0.1, gamma=0.0, colsample_bytree=0.5, colsample_bylevel=0.7 \n",
      "[CV]  subsample=0.7999999999999999, n_estimators=300, max_depth=14, learning_rate=0.2, gamma=0.2, colsample_bytree=0.4, colsample_bylevel=0.7999999999999999, total= 2.8min\n",
      "[CV] subsample=0.6, n_estimators=300, max_depth=5, learning_rate=0.1, gamma=0.0, colsample_bytree=0.7999999999999999, colsample_bylevel=0.4 \n",
      "[CV]  subsample=0.7999999999999999, n_estimators=300, max_depth=14, learning_rate=0.2, gamma=0.2, colsample_bytree=0.4, colsample_bylevel=0.7999999999999999, total= 2.8min\n",
      "[CV] subsample=0.6, n_estimators=300, max_depth=5, learning_rate=0.1, gamma=0.0, colsample_bytree=0.7999999999999999, colsample_bylevel=0.4 \n",
      "[CV]  subsample=0.6, n_estimators=300, max_depth=14, learning_rate=0.1, gamma=0.0, colsample_bytree=0.4, colsample_bylevel=0.6, total= 2.4min\n",
      "[CV] subsample=0.6, n_estimators=300, max_depth=5, learning_rate=0.1, gamma=0.0, colsample_bytree=0.7999999999999999, colsample_bylevel=0.4 \n",
      "[CV]  subsample=0.7, n_estimators=300, max_depth=5, learning_rate=0.3, gamma=0.2, colsample_bytree=0.7999999999999999, colsample_bylevel=0.4, total= 1.1min\n",
      "[CV] subsample=0.6, n_estimators=300, max_depth=5, learning_rate=0.1, gamma=0.0, colsample_bytree=0.7999999999999999, colsample_bylevel=0.4 \n",
      "[CV]  subsample=0.7, n_estimators=300, max_depth=5, learning_rate=0.3, gamma=0.2, colsample_bytree=0.7999999999999999, colsample_bylevel=0.4, total= 1.1min\n",
      "[CV] subsample=0.6, n_estimators=300, max_depth=5, learning_rate=0.1, gamma=0.0, colsample_bytree=0.7999999999999999, colsample_bylevel=0.4 \n",
      "[CV]  subsample=0.7, n_estimators=300, max_depth=5, learning_rate=0.3, gamma=0.2, colsample_bytree=0.7999999999999999, colsample_bylevel=0.4, total= 1.1min\n",
      "[CV] subsample=0.7, n_estimators=100, max_depth=14, learning_rate=0.01, gamma=0.1, colsample_bytree=0.8999999999999999, colsample_bylevel=0.4 \n",
      "[CV]  subsample=0.7, n_estimators=300, max_depth=5, learning_rate=0.3, gamma=0.2, colsample_bytree=0.7999999999999999, colsample_bylevel=0.4, total= 1.1min\n",
      "[CV] subsample=0.7, n_estimators=100, max_depth=14, learning_rate=0.01, gamma=0.1, colsample_bytree=0.8999999999999999, colsample_bylevel=0.4 \n",
      "[CV]  subsample=0.6, n_estimators=200, max_depth=5, learning_rate=0.1, gamma=0.0, colsample_bytree=0.5, colsample_bylevel=0.7, total=  50.9s\n",
      "[CV] subsample=0.7, n_estimators=100, max_depth=14, learning_rate=0.01, gamma=0.1, colsample_bytree=0.8999999999999999, colsample_bylevel=0.4 \n",
      "[CV]  subsample=0.6, n_estimators=200, max_depth=5, learning_rate=0.1, gamma=0.0, colsample_bytree=0.5, colsample_bylevel=0.7, total=  51.0s\n",
      "[CV] subsample=0.7, n_estimators=100, max_depth=14, learning_rate=0.01, gamma=0.1, colsample_bytree=0.8999999999999999, colsample_bylevel=0.4 \n",
      "[CV]  subsample=0.6, n_estimators=200, max_depth=5, learning_rate=0.1, gamma=0.0, colsample_bytree=0.5, colsample_bylevel=0.7, total=  51.4s\n",
      "[CV] subsample=0.7, n_estimators=100, max_depth=14, learning_rate=0.01, gamma=0.1, colsample_bytree=0.8999999999999999, colsample_bylevel=0.4 \n",
      "[CV]  subsample=0.6, n_estimators=200, max_depth=5, learning_rate=0.1, gamma=0.0, colsample_bytree=0.5, colsample_bylevel=0.7, total=  52.4s\n",
      "[CV] subsample=0.8999999999999999, n_estimators=100, max_depth=3, learning_rate=0.2, gamma=0.1, colsample_bytree=0.8999999999999999, colsample_bylevel=0.6 \n",
      "[CV]  subsample=0.6, n_estimators=200, max_depth=5, learning_rate=0.1, gamma=0.0, colsample_bytree=0.5, colsample_bylevel=0.7, total=  52.5s\n",
      "[CV] subsample=0.8999999999999999, n_estimators=100, max_depth=3, learning_rate=0.2, gamma=0.1, colsample_bytree=0.8999999999999999, colsample_bylevel=0.6 \n",
      "[CV]  subsample=0.6, n_estimators=300, max_depth=14, learning_rate=0.1, gamma=0.0, colsample_bytree=0.4, colsample_bylevel=0.6, total= 2.5min\n",
      "[CV] subsample=0.8999999999999999, n_estimators=100, max_depth=3, learning_rate=0.2, gamma=0.1, colsample_bytree=0.8999999999999999, colsample_bylevel=0.6 \n",
      "[CV]  subsample=0.7, n_estimators=300, max_depth=5, learning_rate=0.3, gamma=0.2, colsample_bytree=0.7999999999999999, colsample_bylevel=0.4, total= 1.2min\n",
      "[CV] subsample=0.8999999999999999, n_estimators=100, max_depth=3, learning_rate=0.2, gamma=0.1, colsample_bytree=0.8999999999999999, colsample_bylevel=0.6 \n",
      "[CV]  subsample=0.8999999999999999, n_estimators=100, max_depth=3, learning_rate=0.2, gamma=0.1, colsample_bytree=0.8999999999999999, colsample_bylevel=0.6, total=  20.8s\n",
      "[CV] subsample=0.8999999999999999, n_estimators=100, max_depth=3, learning_rate=0.2, gamma=0.1, colsample_bytree=0.8999999999999999, colsample_bylevel=0.6 \n",
      "[CV]  subsample=0.6, n_estimators=300, max_depth=5, learning_rate=0.1, gamma=0.0, colsample_bytree=0.7999999999999999, colsample_bylevel=0.4, total= 1.2min\n",
      "[CV] subsample=0.7, n_estimators=300, max_depth=3, learning_rate=0.2, gamma=0.2, colsample_bytree=0.8999999999999999, colsample_bylevel=0.5 \n",
      "[CV]  subsample=0.8999999999999999, n_estimators=100, max_depth=3, learning_rate=0.2, gamma=0.1, colsample_bytree=0.8999999999999999, colsample_bylevel=0.6, total=  23.1s\n",
      "[CV] subsample=0.7, n_estimators=300, max_depth=3, learning_rate=0.2, gamma=0.2, colsample_bytree=0.8999999999999999, colsample_bylevel=0.5 \n",
      "[CV]  subsample=0.6, n_estimators=300, max_depth=5, learning_rate=0.1, gamma=0.0, colsample_bytree=0.7999999999999999, colsample_bylevel=0.4, total= 1.3min\n",
      "[CV] subsample=0.7, n_estimators=300, max_depth=3, learning_rate=0.2, gamma=0.2, colsample_bytree=0.8999999999999999, colsample_bylevel=0.5 \n",
      "[CV]  subsample=0.6, n_estimators=300, max_depth=5, learning_rate=0.1, gamma=0.0, colsample_bytree=0.7999999999999999, colsample_bylevel=0.4, total= 1.2min\n",
      "[CV] subsample=0.7, n_estimators=300, max_depth=3, learning_rate=0.2, gamma=0.2, colsample_bytree=0.8999999999999999, colsample_bylevel=0.5 \n",
      "[CV]  subsample=0.8999999999999999, n_estimators=100, max_depth=3, learning_rate=0.2, gamma=0.1, colsample_bytree=0.8999999999999999, colsample_bylevel=0.6, total=  24.1s\n",
      "[CV] subsample=0.7, n_estimators=300, max_depth=3, learning_rate=0.2, gamma=0.2, colsample_bytree=0.8999999999999999, colsample_bylevel=0.5 \n",
      "[CV]  subsample=0.8999999999999999, n_estimators=100, max_depth=3, learning_rate=0.2, gamma=0.1, colsample_bytree=0.8999999999999999, colsample_bylevel=0.6, total=  20.9s\n",
      "[CV] subsample=0.8999999999999999, n_estimators=300, max_depth=10, learning_rate=0.3, gamma=0.0, colsample_bytree=0.4, colsample_bylevel=0.7 \n",
      "[CV]  subsample=0.7999999999999999, n_estimators=300, max_depth=14, learning_rate=0.1, gamma=0.2, colsample_bytree=0.6, colsample_bylevel=0.8999999999999999, total= 4.5min\n",
      "[CV] subsample=0.8999999999999999, n_estimators=300, max_depth=10, learning_rate=0.3, gamma=0.0, colsample_bytree=0.4, colsample_bylevel=0.7 \n",
      "[CV]  subsample=0.7999999999999999, n_estimators=300, max_depth=14, learning_rate=0.1, gamma=0.2, colsample_bytree=0.6, colsample_bylevel=0.8999999999999999, total= 4.5min\n",
      "[CV] subsample=0.8999999999999999, n_estimators=300, max_depth=10, learning_rate=0.3, gamma=0.0, colsample_bytree=0.4, colsample_bylevel=0.7 \n",
      "[CV]  subsample=0.8999999999999999, n_estimators=100, max_depth=3, learning_rate=0.2, gamma=0.1, colsample_bytree=0.8999999999999999, colsample_bylevel=0.6, total=  21.1s\n",
      "[CV] subsample=0.8999999999999999, n_estimators=300, max_depth=10, learning_rate=0.3, gamma=0.0, colsample_bytree=0.4, colsample_bylevel=0.7 \n",
      "[CV]  subsample=0.7999999999999999, n_estimators=300, max_depth=14, learning_rate=0.1, gamma=0.2, colsample_bytree=0.6, colsample_bylevel=0.8999999999999999, total= 4.5min\n",
      "[CV] subsample=0.8999999999999999, n_estimators=300, max_depth=10, learning_rate=0.3, gamma=0.0, colsample_bytree=0.4, colsample_bylevel=0.7 \n",
      "[CV]  subsample=0.7999999999999999, n_estimators=300, max_depth=14, learning_rate=0.1, gamma=0.2, colsample_bytree=0.6, colsample_bylevel=0.8999999999999999, total= 4.4min\n",
      "[CV] subsample=0.6, n_estimators=300, max_depth=10, learning_rate=0.2, gamma=0.2, colsample_bytree=0.7, colsample_bylevel=0.7 \n",
      "[CV]  subsample=0.7999999999999999, n_estimators=300, max_depth=14, learning_rate=0.1, gamma=0.2, colsample_bytree=0.6, colsample_bylevel=0.8999999999999999, total= 4.5min\n",
      "[CV] subsample=0.6, n_estimators=300, max_depth=10, learning_rate=0.2, gamma=0.2, colsample_bytree=0.7, colsample_bylevel=0.7 \n",
      "[CV]  subsample=0.6, n_estimators=300, max_depth=5, learning_rate=0.1, gamma=0.0, colsample_bytree=0.7999999999999999, colsample_bylevel=0.4, total= 1.3min\n",
      "[CV] subsample=0.6, n_estimators=300, max_depth=10, learning_rate=0.2, gamma=0.2, colsample_bytree=0.7, colsample_bylevel=0.7 \n",
      "[CV]  subsample=0.6, n_estimators=300, max_depth=5, learning_rate=0.1, gamma=0.0, colsample_bytree=0.7999999999999999, colsample_bylevel=0.4, total= 1.2min\n",
      "[CV] subsample=0.6, n_estimators=300, max_depth=10, learning_rate=0.2, gamma=0.2, colsample_bytree=0.7, colsample_bylevel=0.7 \n",
      "[CV]  subsample=0.7, n_estimators=100, max_depth=14, learning_rate=0.01, gamma=0.1, colsample_bytree=0.8999999999999999, colsample_bylevel=0.4, total= 1.2min\n",
      "[CV] subsample=0.6, n_estimators=300, max_depth=10, learning_rate=0.2, gamma=0.2, colsample_bytree=0.7, colsample_bylevel=0.7 \n",
      "[CV]  subsample=0.7, n_estimators=100, max_depth=14, learning_rate=0.01, gamma=0.1, colsample_bytree=0.8999999999999999, colsample_bylevel=0.4, total= 1.3min\n",
      "[CV] subsample=0.6, n_estimators=100, max_depth=14, learning_rate=0.1, gamma=0.2, colsample_bytree=0.6, colsample_bylevel=0.4 \n",
      "[CV]  subsample=0.7, n_estimators=100, max_depth=14, learning_rate=0.01, gamma=0.1, colsample_bytree=0.8999999999999999, colsample_bylevel=0.4, total= 1.2min\n",
      "[CV] subsample=0.6, n_estimators=100, max_depth=14, learning_rate=0.1, gamma=0.2, colsample_bytree=0.6, colsample_bylevel=0.4 \n",
      "[CV]  subsample=0.7, n_estimators=100, max_depth=14, learning_rate=0.01, gamma=0.1, colsample_bytree=0.8999999999999999, colsample_bylevel=0.4, total= 1.2min\n",
      "[CV] subsample=0.6, n_estimators=100, max_depth=14, learning_rate=0.1, gamma=0.2, colsample_bytree=0.6, colsample_bylevel=0.4 \n",
      "[CV]  subsample=0.7, n_estimators=100, max_depth=14, learning_rate=0.01, gamma=0.1, colsample_bytree=0.8999999999999999, colsample_bylevel=0.4, total= 1.3min\n",
      "[CV] subsample=0.6, n_estimators=100, max_depth=14, learning_rate=0.1, gamma=0.2, colsample_bytree=0.6, colsample_bylevel=0.4 \n",
      "[CV]  subsample=0.7, n_estimators=300, max_depth=3, learning_rate=0.2, gamma=0.2, colsample_bytree=0.8999999999999999, colsample_bylevel=0.5, total=  58.8s\n",
      "[CV] subsample=0.6, n_estimators=100, max_depth=14, learning_rate=0.1, gamma=0.2, colsample_bytree=0.6, colsample_bylevel=0.4 \n",
      "[CV]  subsample=0.7, n_estimators=300, max_depth=3, learning_rate=0.2, gamma=0.2, colsample_bytree=0.8999999999999999, colsample_bylevel=0.5, total=  57.9s\n",
      "[CV]  subsample=0.7, n_estimators=300, max_depth=3, learning_rate=0.2, gamma=0.2, colsample_bytree=0.8999999999999999, colsample_bylevel=0.5, total=  57.7s\n",
      "[CV]  subsample=0.7, n_estimators=300, max_depth=3, learning_rate=0.2, gamma=0.2, colsample_bytree=0.8999999999999999, colsample_bylevel=0.5, total= 1.0min\n",
      "[CV]  subsample=0.7, n_estimators=300, max_depth=3, learning_rate=0.2, gamma=0.2, colsample_bytree=0.8999999999999999, colsample_bylevel=0.5, total= 1.0min\n",
      "[CV]  subsample=0.6, n_estimators=100, max_depth=14, learning_rate=0.1, gamma=0.2, colsample_bytree=0.6, colsample_bylevel=0.4, total=  47.5s\n",
      "[CV]  subsample=0.6, n_estimators=100, max_depth=14, learning_rate=0.1, gamma=0.2, colsample_bytree=0.6, colsample_bylevel=0.4, total=  44.8s\n",
      "[CV]  subsample=0.6, n_estimators=100, max_depth=14, learning_rate=0.1, gamma=0.2, colsample_bytree=0.6, colsample_bylevel=0.4, total=  44.6s\n",
      "[CV]  subsample=0.6, n_estimators=100, max_depth=14, learning_rate=0.1, gamma=0.2, colsample_bytree=0.6, colsample_bylevel=0.4, total=  44.6s\n",
      "[CV]  subsample=0.5, n_estimators=300, max_depth=14, learning_rate=0.1, gamma=0.2, colsample_bytree=0.7, colsample_bylevel=0.7, total= 4.5min\n",
      "[CV]  subsample=0.6, n_estimators=100, max_depth=14, learning_rate=0.1, gamma=0.2, colsample_bytree=0.6, colsample_bylevel=0.4, total=  42.1s\n",
      "[CV]  subsample=0.8999999999999999, n_estimators=300, max_depth=10, learning_rate=0.3, gamma=0.0, colsample_bytree=0.4, colsample_bylevel=0.7, total= 1.5min\n",
      "[CV]  subsample=0.5, n_estimators=300, max_depth=14, learning_rate=0.1, gamma=0.2, colsample_bytree=0.7, colsample_bylevel=0.7, total= 4.4min\n",
      "[CV]  subsample=0.8999999999999999, n_estimators=300, max_depth=10, learning_rate=0.3, gamma=0.0, colsample_bytree=0.4, colsample_bylevel=0.7, total= 1.5min\n",
      "[CV]  subsample=0.8999999999999999, n_estimators=300, max_depth=10, learning_rate=0.3, gamma=0.0, colsample_bytree=0.4, colsample_bylevel=0.7, total= 1.5min\n",
      "[CV]  subsample=0.5, n_estimators=300, max_depth=14, learning_rate=0.1, gamma=0.2, colsample_bytree=0.7, colsample_bylevel=0.7, total= 4.4min\n",
      "[CV]  subsample=0.8999999999999999, n_estimators=300, max_depth=10, learning_rate=0.3, gamma=0.0, colsample_bytree=0.4, colsample_bylevel=0.7, total= 1.5min\n",
      "[CV]  subsample=0.8999999999999999, n_estimators=300, max_depth=10, learning_rate=0.3, gamma=0.0, colsample_bytree=0.4, colsample_bylevel=0.7, total= 1.5min\n",
      "[CV]  subsample=0.5, n_estimators=300, max_depth=14, learning_rate=0.1, gamma=0.2, colsample_bytree=0.7, colsample_bylevel=0.7, total= 4.4min\n",
      "[CV]  subsample=0.5, n_estimators=300, max_depth=14, learning_rate=0.1, gamma=0.2, colsample_bytree=0.7, colsample_bylevel=0.7, total= 4.1min\n",
      "[CV]  subsample=0.6, n_estimators=300, max_depth=10, learning_rate=0.2, gamma=0.2, colsample_bytree=0.7, colsample_bylevel=0.7, total= 2.5min\n",
      "[CV]  subsample=0.6, n_estimators=300, max_depth=10, learning_rate=0.2, gamma=0.2, colsample_bytree=0.7, colsample_bylevel=0.7, total= 2.4min\n",
      "[CV]  subsample=0.6, n_estimators=300, max_depth=10, learning_rate=0.2, gamma=0.2, colsample_bytree=0.7, colsample_bylevel=0.7, total= 2.3min\n",
      "[CV]  subsample=0.6, n_estimators=300, max_depth=10, learning_rate=0.2, gamma=0.2, colsample_bytree=0.7, colsample_bylevel=0.7, total= 2.3min\n",
      "[CV]  subsample=0.6, n_estimators=300, max_depth=10, learning_rate=0.2, gamma=0.2, colsample_bytree=0.7, colsample_bylevel=0.7, total= 2.4min\n"
     ]
    },
    {
     "name": "stderr",
     "output_type": "stream",
     "text": [
      "[Parallel(n_jobs=-1)]: Done 200 out of 200 | elapsed: 14.5min finished\n"
     ]
    },
    {
     "data": {
      "text/plain": [
       "RandomizedSearchCV(cv=5,\n",
       "                   estimator=XGBClassifier(base_score=None, booster=None,\n",
       "                                           callbacks=None,\n",
       "                                           colsample_bylevel=None,\n",
       "                                           colsample_bynode=None,\n",
       "                                           colsample_bytree=None,\n",
       "                                           early_stopping_rounds=None,\n",
       "                                           enable_categorical=False,\n",
       "                                           eval_metric='logloss', gamma=None,\n",
       "                                           gpu_id=None, grow_policy=None,\n",
       "                                           importance_type=None,\n",
       "                                           interaction_constraints=None,\n",
       "                                           learning_rate=None, max_bin=...\n",
       "                                           reg_alpha=None, reg_lambda=None, ...),\n",
       "                   n_iter=40, n_jobs=-1,\n",
       "                   param_distributions={'colsample_bylevel': array([0.4, 0.5, 0.6, 0.7, 0.8, 0.9]),\n",
       "                                        'colsample_bytree': array([0.4, 0.5, 0.6, 0.7, 0.8, 0.9]),\n",
       "                                        'gamma': array([0. , 0.1, 0.2]),\n",
       "                                        'learning_rate': [0.01, 0.1, 0.2, 0.3],\n",
       "                                        'max_depth': [3, 5, 6, 10, 12, 14],\n",
       "                                        'n_estimators': array([100, 200, 300]),\n",
       "                                        'subsample': array([0.5, 0.6, 0.7, 0.8, 0.9])},\n",
       "                   scoring='f1', verbose=2)"
      ]
     },
     "execution_count": 9,
     "metadata": {},
     "output_type": "execute_result"
    }
   ],
   "source": [
    "xgb_grid.fit(X, y)"
   ]
  },
  {
   "cell_type": "code",
   "execution_count": 13,
   "metadata": {},
   "outputs": [
    {
     "data": {
      "text/plain": [
       "{'subsample': 0.6,\n",
       " 'n_estimators': 100,\n",
       " 'max_depth': 14,\n",
       " 'learning_rate': 0.1,\n",
       " 'gamma': 0.2,\n",
       " 'colsample_bytree': 0.6,\n",
       " 'colsample_bylevel': 0.4}"
      ]
     },
     "execution_count": 13,
     "metadata": {},
     "output_type": "execute_result"
    }
   ],
   "source": [
    "xgb_grid.best_params_"
   ]
  },
  {
   "cell_type": "code",
   "execution_count": 14,
   "metadata": {},
   "outputs": [],
   "source": [
    "xgb_best = xgb_grid.best_estimator_\n",
    "X_test = test_df.drop(columns = ['Response'])\n",
    "y_test = test_df['Response']\n",
    "y_pred = xgb_best.predict(X_test)\n",
    "f1 = f1_score(y_test, y_pred)\n",
    "accuracy = accuracy_score(y_test, y_pred)"
   ]
  },
  {
   "cell_type": "code",
   "execution_count": 15,
   "metadata": {},
   "outputs": [
    {
     "name": "stdout",
     "output_type": "stream",
     "text": [
      "0.11698670605612999\n",
      "0.8692876197139984\n"
     ]
    }
   ],
   "source": [
    "print(f1)\n",
    "print(accuracy)"
   ]
  },
  {
   "cell_type": "code",
   "execution_count": 3,
   "metadata": {},
   "outputs": [
    {
     "ename": "NameError",
     "evalue": "name 'xgb_best' is not defined",
     "output_type": "error",
     "traceback": [
      "\u001b[0;31m---------------------------------------------------------------------------\u001b[0m",
      "\u001b[0;31mNameError\u001b[0m                                 Traceback (most recent call last)",
      "\u001b[1;32m/home/duong/Desktop/GitFolder/E2E-ML-pipeline-with-data/model_dev/02_baseline_model.ipynb Cell 14'\u001b[0m in \u001b[0;36m<cell line: 1>\u001b[0;34m()\u001b[0m\n\u001b[0;32m----> <a href='vscode-notebook-cell:/home/duong/Desktop/GitFolder/E2E-ML-pipeline-with-data/model_dev/02_baseline_model.ipynb#ch0000013?line=0'>1</a>\u001b[0m plot_confusion_matrix(xgb_best, y_test, y_pred)\n\u001b[1;32m      <a href='vscode-notebook-cell:/home/duong/Desktop/GitFolder/E2E-ML-pipeline-with-data/model_dev/02_baseline_model.ipynb#ch0000013?line=1'>2</a>\u001b[0m plt\u001b[39m.\u001b[39mshow()\n",
      "\u001b[0;31mNameError\u001b[0m: name 'xgb_best' is not defined"
     ]
    }
   ],
   "source": [
    "plot_confusion_matrix(xgb_best, y_test, y_pred)\n",
    "plt.show()"
   ]
  },
  {
   "cell_type": "code",
   "execution_count": null,
   "metadata": {},
   "outputs": [],
   "source": []
  }
 ],
 "metadata": {
  "interpreter": {
   "hash": "5a7261e031f2871163ea15519be56f2cee9bbc90411abd98de0adaca4bbf9476"
  },
  "kernelspec": {
   "display_name": "Python 3.8.10 ('cross-sell-TlDnGNar-py3.8')",
   "language": "python",
   "name": "python3"
  },
  "language_info": {
   "codemirror_mode": {
    "name": "ipython",
    "version": 3
   },
   "file_extension": ".py",
   "mimetype": "text/x-python",
   "name": "python",
   "nbconvert_exporter": "python",
   "pygments_lexer": "ipython3",
   "version": "3.8.10"
  }
 },
 "nbformat": 4,
 "nbformat_minor": 2
}
